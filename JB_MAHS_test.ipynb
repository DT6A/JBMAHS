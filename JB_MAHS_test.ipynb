{
  "nbformat": 4,
  "nbformat_minor": 0,
  "metadata": {
    "colab": {
      "name": "JB_MAHS_test.ipynb",
      "provenance": [],
      "collapsed_sections": [],
      "toc_visible": true,
      "authorship_tag": "ABX9TyOv0Gr0gzpX+OxRrHVxqqsf",
      "include_colab_link": true
    },
    "kernelspec": {
      "display_name": "Python 3",
      "name": "python3"
    }
  },
  "cells": [
    {
      "cell_type": "markdown",
      "metadata": {
        "id": "view-in-github",
        "colab_type": "text"
      },
      "source": [
        "<a href=\"https://colab.research.google.com/github/DT6A/JBMAHS/blob/main/JB_MAHS_test.ipynb\" target=\"_parent\"><img src=\"https://colab.research.google.com/assets/colab-badge.svg\" alt=\"Open In Colab\"/></a>"
      ]
    },
    {
      "cell_type": "code",
      "metadata": {
        "colab": {
          "base_uri": "https://localhost:8080/"
        },
        "id": "iPomnhO1GuEH",
        "outputId": "55a4fc57-3c1d-4869-dd57-c309c29caa82"
      },
      "source": [
        "!pip install --upgrade gym"
      ],
      "execution_count": null,
      "outputs": [
        {
          "output_type": "stream",
          "text": [
            "Requirement already up-to-date: gym in /usr/local/lib/python3.6/dist-packages (0.18.0)\n",
            "Requirement already satisfied, skipping upgrade: scipy in /usr/local/lib/python3.6/dist-packages (from gym) (1.4.1)\n",
            "Requirement already satisfied, skipping upgrade: cloudpickle<1.7.0,>=1.2.0 in /usr/local/lib/python3.6/dist-packages (from gym) (1.3.0)\n",
            "Requirement already satisfied, skipping upgrade: numpy>=1.10.4 in /usr/local/lib/python3.6/dist-packages (from gym) (1.19.5)\n",
            "Requirement already satisfied, skipping upgrade: Pillow<=7.2.0 in /usr/local/lib/python3.6/dist-packages (from gym) (7.0.0)\n",
            "Requirement already satisfied, skipping upgrade: pyglet<=1.5.0,>=1.4.0 in /usr/local/lib/python3.6/dist-packages (from gym) (1.5.0)\n",
            "Requirement already satisfied, skipping upgrade: future in /usr/local/lib/python3.6/dist-packages (from pyglet<=1.5.0,>=1.4.0->gym) (0.16.0)\n"
          ],
          "name": "stdout"
        }
      ]
    },
    {
      "cell_type": "code",
      "metadata": {
        "id": "b41ykbT0DrDr"
      },
      "source": [
        "import os\r\n",
        "import random\r\n",
        "\r\n",
        "from collections import deque\r\n",
        "from copy import deepcopy\r\n",
        "\r\n",
        "import numpy as np\r\n",
        "import matplotlib.pyplot as plt\r\n",
        "import gym"
      ],
      "execution_count": null,
      "outputs": []
    },
    {
      "cell_type": "code",
      "metadata": {
        "id": "lMsRp1nKYa9d"
      },
      "source": [
        "import torch\n",
        "import torch.nn as nn\n",
        "import torch.nn.functional as F"
      ],
      "execution_count": null,
      "outputs": []
    },
    {
      "cell_type": "code",
      "metadata": {
        "id": "8E05KgYMD1sv"
      },
      "source": [
        "env = gym.make(\"MountainCar-v0\")"
      ],
      "execution_count": null,
      "outputs": []
    },
    {
      "cell_type": "code",
      "metadata": {
        "id": "psWh0VniKEMq"
      },
      "source": [
        "def simple_policy(obs):\r\n",
        "  velocity = obs[1]\r\n",
        "  return 0 if velocity < 0 else 2"
      ],
      "execution_count": null,
      "outputs": []
    },
    {
      "cell_type": "code",
      "metadata": {
        "id": "u7W5BIKsKEOi"
      },
      "source": [
        "def test_policy(enviroment, episodes_n=1000, policy=simple_policy):\r\n",
        "  enviroment.seed(0)\r\n",
        "  results = []\r\n",
        "  for ep in range(episodes_n):\r\n",
        "    total_reward = 0\r\n",
        "    obs = enviroment.reset()\r\n",
        "    done = False\r\n",
        "\r\n",
        "    while not done:\r\n",
        "      action = policy(obs)\r\n",
        "      obs, reward, done, info = enviroment.step(action)\r\n",
        "      total_reward += reward\r\n",
        "\r\n",
        "    results.append(total_reward)\r\n",
        "    enviroment.close()\r\n",
        "  print('mean:', np.mean(results), \r\n",
        "        '\\nstd:', np.std(results), \r\n",
        "        '\\nmin:', np.min(results), \r\n",
        "        '\\nmax:', np.max(results))"
      ],
      "execution_count": 382,
      "outputs": []
    },
    {
      "cell_type": "code",
      "metadata": {
        "colab": {
          "base_uri": "https://localhost:8080/"
        },
        "id": "hf8h5et4KEQU",
        "outputId": "5cf8544d-b23a-420a-f7f0-90f7a21631bb"
      },
      "source": [
        "test_policy(env, 100, simple_policy)"
      ],
      "execution_count": 387,
      "outputs": [
        {
          "output_type": "stream",
          "text": [
            "mean: -119.41 \n",
            "std: 3.591921491346937 \n",
            "min: -125.0 \n",
            "max: -113.0\n"
          ],
          "name": "stdout"
        }
      ]
    },
    {
      "cell_type": "markdown",
      "metadata": {
        "id": "p0w2i49SoIc_"
      },
      "source": [
        "## Policy gradient"
      ]
    },
    {
      "cell_type": "markdown",
      "metadata": {
        "id": "HxKWPAZTok93"
      },
      "source": [
        "This approach can solve CartPole easily, but have troubles with MountainCar even with reward function changes and warm up policy"
      ]
    },
    {
      "cell_type": "code",
      "metadata": {
        "id": "ZRtIguGli73d"
      },
      "source": [
        "GAMMA = 0.99 # discount factor"
      ],
      "execution_count": null,
      "outputs": []
    },
    {
      "cell_type": "code",
      "metadata": {
        "id": "TlXUpmDmWG5X"
      },
      "source": [
        "class MC_FNN(nn.Module):\n",
        "  def __init__(self, hidden_dim=32, do_p=0.5):\n",
        "    super().__init__()\n",
        "\n",
        "    self.fc1 = nn.Linear(2, hidden_dim)\n",
        "    self.do1 = nn.Dropout(do_p)\n",
        "    self.act1 = nn.ELU()\n",
        "    self.fc2 = nn.Linear(hidden_dim, hidden_dim)\n",
        "    self.do2 = nn.Dropout(do_p)\n",
        "    self.act2 = nn.ELU()\n",
        "    self.fc3 = nn.Linear(hidden_dim, 3)\n",
        "    self.act3 = nn.Softmax(dim=-1)\n",
        "\n",
        "  def forward(self, X):\n",
        "    X = self.fc1(X)\n",
        "    X = self.do1(X)\n",
        "    X = self.act1(X)\n",
        "    X = self.fc2(X)\n",
        "    X = self.do2(X)\n",
        "    X = self.act2(X)\n",
        "    X = self.fc3(X)\n",
        "    return self.act3(X)"
      ],
      "execution_count": null,
      "outputs": []
    },
    {
      "cell_type": "code",
      "metadata": {
        "id": "KPkFac09bm7f"
      },
      "source": [
        "class Gradient_policy():\n",
        "  def __init__(self, fnn, lr=3e-3):\n",
        "    self.fnn = fnn\n",
        "    self.optimizer = torch.optim.Adam(fnn.parameters(), lr=lr)\n",
        "    self.reset_state()\n",
        "    \n",
        "\n",
        "  def reset_state(self):\n",
        "    self.rewards_history = []\n",
        "    self.actions_history = torch.autograd.Variable(torch.Tensor())\n",
        "\n",
        "  def get_action(self, obs, is_train=True):\n",
        "    if not is_train:\n",
        "      self.fnn.eval()\n",
        "    probs = self.fnn(torch.Tensor(obs))\n",
        "    distr = torch.distributions.Categorical(probs)\n",
        "    action = distr.sample()\n",
        "\n",
        "    if is_train:\n",
        "      log_p = distr.log_prob(action)\n",
        "      if self.actions_history.size()[0] == 0:\n",
        "        self.actions_history = log_p.reshape(1)\n",
        "      else:\n",
        "        self.actions_history = torch.cat([self.actions_history, log_p.reshape(1)])\n",
        "    else:\n",
        "      self.fnn.train()\n",
        "\n",
        "    return action\n",
        "\n",
        "  def __call__(self, obs):\n",
        "    return self.get_action(obs, False).item()\n",
        "\n",
        "\n",
        "  def update(self):\n",
        "    rewards_sum = 0\n",
        "    discounted_rewards = []\n",
        "    \n",
        "    for r in self.rewards_history[::-1]:\n",
        "      rewards_sum = r + GAMMA * rewards_sum\n",
        "      discounted_rewards.append(rewards_sum) \n",
        "\n",
        "    discounted_rewards = torch.Tensor(discounted_rewards[::-1])\n",
        "    norm_rewards = (discounted_rewards - discounted_rewards.mean()) / (discounted_rewards.std() + 1e-10)\n",
        "    loss = torch.sum(torch.mul(self.actions_history, norm_rewards).mul(-1), -1)\n",
        "\n",
        "    self.optimizer.zero_grad()\n",
        "    loss.backward()\n",
        "    self.optimizer.step()\n",
        "\n",
        "    self.reset_state()\n"
      ],
      "execution_count": null,
      "outputs": []
    },
    {
      "cell_type": "code",
      "metadata": {
        "id": "-qRBHzZj1HU-"
      },
      "source": [
        "def train_policy(policy, n_epoches=150000, max_iters=200, \n",
        "                 modify_reward=True, modification_scale=500,\n",
        "                 wu_policy=simple_policy, wu_dur=110, wu_decr=1000):\n",
        "  rewards = []\n",
        "  for e in range(n_epoches):\n",
        "    obs = env.reset()\n",
        "    curr_reward = 0\n",
        "    prev_state = obs\n",
        "    steps = 0\n",
        "\n",
        "    for it in range(max_iters):\n",
        "      done = None\n",
        "\n",
        "      if it < wu_dur:\n",
        "        action = wu_policy(obs)\n",
        "        obs, reward, done, info = env.step(action)\n",
        "        curr_reward += reward\n",
        "      else:\n",
        "        action = policy.get_action(obs)\n",
        "        obs, reward, done, info = env.step(action.item())\n",
        "        if modify_reward:\n",
        "          reward += modification_scale * (GAMMA * abs(obs[1]) - abs(prev_state[1]))\n",
        "          prev_state = obs\n",
        "        policy.rewards_history.append(reward)\n",
        "        curr_reward += reward\n",
        "      \n",
        "      if done:\n",
        "        break\n",
        "      steps += 1\n",
        "\n",
        "    policy.update()\n",
        "    rewards.append(curr_reward)\n",
        "    if e % 500 == 0:\n",
        "      print('Epoch', e, '\\tLast run length:', steps, '\\tWU policy duration:', wu_dur, '\\tMean reward:', np.mean(rewards))\n",
        "      lens = []\n",
        "    if wu_dur > 0 and (e + 1) % wu_decr == 0:\n",
        "      wu_dur -= 1"
      ],
      "execution_count": null,
      "outputs": []
    },
    {
      "cell_type": "code",
      "metadata": {
        "id": "isjBAQHEc6-0"
      },
      "source": [
        "nn_policy = Gradient_policy(MC_FNN())"
      ],
      "execution_count": null,
      "outputs": []
    },
    {
      "cell_type": "code",
      "metadata": {
        "colab": {
          "base_uri": "https://localhost:8080/",
          "height": 1000
        },
        "id": "BZOEgmJefRPs",
        "outputId": "6dafbbc3-d947-47dd-db0d-e1bcc7862d36"
      },
      "source": [
        "train_policy(nn_policy, modify_reward=True)"
      ],
      "execution_count": null,
      "outputs": [
        {
          "output_type": "stream",
          "text": [
            "Epoch 0 \tLast run length: 119 \tWU policy duration: 110 \tMean reward: -103.95795596416315\n",
            "Epoch 500 \tLast run length: 113 \tWU policy duration: 110 \tMean reward: -103.34793516897909\n",
            "Epoch 1000 \tLast run length: 124 \tWU policy duration: 109 \tMean reward: -101.72972188598993\n",
            "Epoch 1500 \tLast run length: 122 \tWU policy duration: 109 \tMean reward: -101.23961911070421\n",
            "Epoch 2000 \tLast run length: 112 \tWU policy duration: 108 \tMean reward: -100.81984349663881\n",
            "Epoch 2500 \tLast run length: 113 \tWU policy duration: 108 \tMean reward: -100.56437257237192\n",
            "Epoch 3000 \tLast run length: 113 \tWU policy duration: 107 \tMean reward: -100.4475236871968\n",
            "Epoch 3500 \tLast run length: 121 \tWU policy duration: 107 \tMean reward: -100.41970579637668\n",
            "Epoch 4000 \tLast run length: 120 \tWU policy duration: 106 \tMean reward: -100.35039568062305\n",
            "Epoch 4500 \tLast run length: 115 \tWU policy duration: 106 \tMean reward: -100.3378725522021\n",
            "Epoch 5000 \tLast run length: 121 \tWU policy duration: 105 \tMean reward: -100.29409663343345\n",
            "Epoch 5500 \tLast run length: 121 \tWU policy duration: 105 \tMean reward: -100.26937174362091\n",
            "Epoch 6000 \tLast run length: 123 \tWU policy duration: 104 \tMean reward: -100.23786679756553\n",
            "Epoch 6500 \tLast run length: 120 \tWU policy duration: 104 \tMean reward: -100.21520056002139\n",
            "Epoch 7000 \tLast run length: 121 \tWU policy duration: 103 \tMean reward: -100.25745349427928\n",
            "Epoch 7500 \tLast run length: 114 \tWU policy duration: 103 \tMean reward: -100.26391171577231\n",
            "Epoch 8000 \tLast run length: 120 \tWU policy duration: 102 \tMean reward: -100.29388756986995\n",
            "Epoch 8500 \tLast run length: 120 \tWU policy duration: 102 \tMean reward: -100.35136076432244\n",
            "Epoch 9000 \tLast run length: 113 \tWU policy duration: 101 \tMean reward: -100.40347812615497\n",
            "Epoch 9500 \tLast run length: 119 \tWU policy duration: 101 \tMean reward: -100.46610130176973\n",
            "Epoch 10000 \tLast run length: 113 \tWU policy duration: 100 \tMean reward: -100.50024857980539\n",
            "Epoch 10500 \tLast run length: 122 \tWU policy duration: 100 \tMean reward: -100.54981987490758\n",
            "Epoch 11000 \tLast run length: 121 \tWU policy duration: 99 \tMean reward: -100.60034863678135\n",
            "Epoch 11500 \tLast run length: 117 \tWU policy duration: 99 \tMean reward: -100.65840557789171\n",
            "Epoch 12000 \tLast run length: 120 \tWU policy duration: 98 \tMean reward: -100.71252448969715\n",
            "Epoch 12500 \tLast run length: 123 \tWU policy duration: 98 \tMean reward: -100.77267643865538\n",
            "Epoch 13000 \tLast run length: 113 \tWU policy duration: 97 \tMean reward: -100.81930684810328\n",
            "Epoch 13500 \tLast run length: 120 \tWU policy duration: 97 \tMean reward: -100.88506009119037\n",
            "Epoch 14000 \tLast run length: 113 \tWU policy duration: 96 \tMean reward: -100.94159679202194\n",
            "Epoch 14500 \tLast run length: 122 \tWU policy duration: 96 \tMean reward: -101.01990936837775\n",
            "Epoch 15000 \tLast run length: 121 \tWU policy duration: 95 \tMean reward: -101.09815221109712\n",
            "Epoch 15500 \tLast run length: 121 \tWU policy duration: 95 \tMean reward: -101.17193615486322\n",
            "Epoch 16000 \tLast run length: 121 \tWU policy duration: 94 \tMean reward: -101.22477121220594\n",
            "Epoch 16500 \tLast run length: 120 \tWU policy duration: 94 \tMean reward: -101.29581970752616\n",
            "Epoch 17000 \tLast run length: 120 \tWU policy duration: 93 \tMean reward: -101.35468736005866\n",
            "Epoch 17500 \tLast run length: 112 \tWU policy duration: 93 \tMean reward: -101.41396002591249\n",
            "Epoch 18000 \tLast run length: 122 \tWU policy duration: 92 \tMean reward: -101.48228759186237\n",
            "Epoch 18500 \tLast run length: 115 \tWU policy duration: 92 \tMean reward: -101.7054480679539\n",
            "Epoch 19000 \tLast run length: 123 \tWU policy duration: 91 \tMean reward: -102.10274931300383\n",
            "Epoch 19500 \tLast run length: 124 \tWU policy duration: 91 \tMean reward: -102.32022192897101\n",
            "Epoch 20000 \tLast run length: 121 \tWU policy duration: 90 \tMean reward: -102.38450787827273\n",
            "Epoch 20500 \tLast run length: 124 \tWU policy duration: 90 \tMean reward: -102.42451119352637\n",
            "Epoch 21000 \tLast run length: 124 \tWU policy duration: 89 \tMean reward: -102.47832106940359\n",
            "Epoch 21500 \tLast run length: 113 \tWU policy duration: 89 \tMean reward: -102.5230043410514\n",
            "Epoch 22000 \tLast run length: 121 \tWU policy duration: 88 \tMean reward: -102.56715573381722\n",
            "Epoch 22500 \tLast run length: 121 \tWU policy duration: 88 \tMean reward: -102.6201967381926\n",
            "Epoch 23000 \tLast run length: 113 \tWU policy duration: 87 \tMean reward: -102.66152930350638\n",
            "Epoch 23500 \tLast run length: 114 \tWU policy duration: 87 \tMean reward: -102.71184281229948\n",
            "Epoch 24000 \tLast run length: 113 \tWU policy duration: 86 \tMean reward: -102.76710612982517\n",
            "Epoch 24500 \tLast run length: 114 \tWU policy duration: 86 \tMean reward: -102.8044256955491\n",
            "Epoch 25000 \tLast run length: 119 \tWU policy duration: 85 \tMean reward: -102.84372904538195\n",
            "Epoch 25500 \tLast run length: 115 \tWU policy duration: 85 \tMean reward: -102.88301867179497\n",
            "Epoch 26000 \tLast run length: 118 \tWU policy duration: 84 \tMean reward: -102.92418720926676\n",
            "Epoch 26500 \tLast run length: 120 \tWU policy duration: 84 \tMean reward: -102.9645792695406\n",
            "Epoch 27000 \tLast run length: 120 \tWU policy duration: 83 \tMean reward: -103.00965494733933\n",
            "Epoch 27500 \tLast run length: 114 \tWU policy duration: 83 \tMean reward: -103.04765358551892\n",
            "Epoch 28000 \tLast run length: 113 \tWU policy duration: 82 \tMean reward: -103.081968362606\n",
            "Epoch 28500 \tLast run length: 113 \tWU policy duration: 82 \tMean reward: -103.11770949473151\n",
            "Epoch 29000 \tLast run length: 121 \tWU policy duration: 81 \tMean reward: -103.13734245355549\n",
            "Epoch 29500 \tLast run length: 114 \tWU policy duration: 81 \tMean reward: -103.16068610191896\n",
            "Epoch 30000 \tLast run length: 120 \tWU policy duration: 80 \tMean reward: -103.18763832302434\n",
            "Epoch 30500 \tLast run length: 113 \tWU policy duration: 80 \tMean reward: -103.21206351309982\n",
            "Epoch 31000 \tLast run length: 113 \tWU policy duration: 79 \tMean reward: -103.23328746684469\n",
            "Epoch 31500 \tLast run length: 119 \tWU policy duration: 79 \tMean reward: -103.24879161129249\n",
            "Epoch 32000 \tLast run length: 120 \tWU policy duration: 78 \tMean reward: -103.26442781418545\n",
            "Epoch 32500 \tLast run length: 119 \tWU policy duration: 78 \tMean reward: -103.27617176385684\n",
            "Epoch 33000 \tLast run length: 118 \tWU policy duration: 77 \tMean reward: -103.28614969118428\n",
            "Epoch 33500 \tLast run length: 118 \tWU policy duration: 77 \tMean reward: -103.29386460787696\n",
            "Epoch 34000 \tLast run length: 118 \tWU policy duration: 76 \tMean reward: -103.29717416328715\n",
            "Epoch 34500 \tLast run length: 112 \tWU policy duration: 76 \tMean reward: -103.30322034897526\n",
            "Epoch 35000 \tLast run length: 117 \tWU policy duration: 75 \tMean reward: -103.30963058369908\n",
            "Epoch 35500 \tLast run length: 113 \tWU policy duration: 75 \tMean reward: -103.31360891018898\n",
            "Epoch 36000 \tLast run length: 113 \tWU policy duration: 74 \tMean reward: -103.3176714616519\n",
            "Epoch 36500 \tLast run length: 117 \tWU policy duration: 74 \tMean reward: -103.32193952159624\n",
            "Epoch 37000 \tLast run length: 114 \tWU policy duration: 73 \tMean reward: -103.32659826594731\n",
            "Epoch 37500 \tLast run length: 115 \tWU policy duration: 73 \tMean reward: -103.33022803812072\n",
            "Epoch 38000 \tLast run length: 117 \tWU policy duration: 72 \tMean reward: -103.32821731648211\n",
            "Epoch 38500 \tLast run length: 116 \tWU policy duration: 72 \tMean reward: -103.3337204892356\n",
            "Epoch 39000 \tLast run length: 116 \tWU policy duration: 71 \tMean reward: -103.34239544596886\n",
            "Epoch 39500 \tLast run length: 115 \tWU policy duration: 71 \tMean reward: -103.35192455997871\n",
            "Epoch 40000 \tLast run length: 115 \tWU policy duration: 70 \tMean reward: -103.35980230177798\n",
            "Epoch 40500 \tLast run length: 116 \tWU policy duration: 70 \tMean reward: -103.37217738669527\n",
            "Epoch 41000 \tLast run length: 118 \tWU policy duration: 69 \tMean reward: -103.42066240394308\n",
            "Epoch 41500 \tLast run length: 125 \tWU policy duration: 69 \tMean reward: -103.47582488582782\n",
            "Epoch 42000 \tLast run length: 120 \tWU policy duration: 68 \tMean reward: -103.55762899904764\n",
            "Epoch 42500 \tLast run length: 123 \tWU policy duration: 68 \tMean reward: -103.62231350747331\n",
            "Epoch 43000 \tLast run length: 115 \tWU policy duration: 67 \tMean reward: -103.68584840787342\n",
            "Epoch 43500 \tLast run length: 116 \tWU policy duration: 67 \tMean reward: -103.75210404819283\n",
            "Epoch 44000 \tLast run length: 115 \tWU policy duration: 66 \tMean reward: -103.7991551620708\n",
            "Epoch 44500 \tLast run length: 114 \tWU policy duration: 66 \tMean reward: -103.85239895857173\n",
            "Epoch 45000 \tLast run length: 115 \tWU policy duration: 65 \tMean reward: -103.89551803775075\n",
            "Epoch 45500 \tLast run length: 114 \tWU policy duration: 65 \tMean reward: -103.95378562942155\n",
            "Epoch 46000 \tLast run length: 114 \tWU policy duration: 64 \tMean reward: -103.99904922208141\n",
            "Epoch 46500 \tLast run length: 115 \tWU policy duration: 64 \tMean reward: -104.04684935275999\n",
            "Epoch 47000 \tLast run length: 114 \tWU policy duration: 63 \tMean reward: -104.0922033389873\n",
            "Epoch 47500 \tLast run length: 117 \tWU policy duration: 63 \tMean reward: -104.15127232257505\n",
            "Epoch 48000 \tLast run length: 118 \tWU policy duration: 62 \tMean reward: -104.2117950712689\n",
            "Epoch 48500 \tLast run length: 122 \tWU policy duration: 62 \tMean reward: -104.29126184769872\n",
            "Epoch 49000 \tLast run length: 119 \tWU policy duration: 61 \tMean reward: -104.36622115062538\n",
            "Epoch 49500 \tLast run length: 115 \tWU policy duration: 61 \tMean reward: -104.47372257121314\n",
            "Epoch 50000 \tLast run length: 156 \tWU policy duration: 60 \tMean reward: -104.57669722516465\n",
            "Epoch 50500 \tLast run length: 118 \tWU policy duration: 60 \tMean reward: -104.72037441105891\n",
            "Epoch 51000 \tLast run length: 120 \tWU policy duration: 59 \tMean reward: -104.86753878798406\n",
            "Epoch 51500 \tLast run length: 117 \tWU policy duration: 59 \tMean reward: -105.11279708197665\n",
            "Epoch 52000 \tLast run length: 122 \tWU policy duration: 58 \tMean reward: -105.33438820486957\n",
            "Epoch 52500 \tLast run length: 118 \tWU policy duration: 58 \tMean reward: -105.67897705813155\n",
            "Epoch 53000 \tLast run length: 199 \tWU policy duration: 57 \tMean reward: -106.01446502616574\n",
            "Epoch 53500 \tLast run length: 199 \tWU policy duration: 57 \tMean reward: -106.49425567013793\n",
            "Epoch 54000 \tLast run length: 199 \tWU policy duration: 56 \tMean reward: -106.97652982235356\n",
            "Epoch 54500 \tLast run length: 199 \tWU policy duration: 56 \tMean reward: -107.56141711128704\n",
            "Epoch 55000 \tLast run length: 127 \tWU policy duration: 55 \tMean reward: -108.14662380316148\n",
            "Epoch 55500 \tLast run length: 199 \tWU policy duration: 55 \tMean reward: -108.83661235085388\n",
            "Epoch 56000 \tLast run length: 199 \tWU policy duration: 54 \tMean reward: -109.53223204759612\n",
            "Epoch 56500 \tLast run length: 199 \tWU policy duration: 54 \tMean reward: -110.3521164101806\n",
            "Epoch 57000 \tLast run length: 199 \tWU policy duration: 53 \tMean reward: -111.16485479610823\n",
            "Epoch 57500 \tLast run length: 199 \tWU policy duration: 53 \tMean reward: -112.0050811055747\n",
            "Epoch 58000 \tLast run length: 199 \tWU policy duration: 52 \tMean reward: -112.83048008745361\n",
            "Epoch 58500 \tLast run length: 199 \tWU policy duration: 52 \tMean reward: -113.65032511963561\n",
            "Epoch 59000 \tLast run length: 199 \tWU policy duration: 51 \tMean reward: -114.45804079155438\n",
            "Epoch 59500 \tLast run length: 199 \tWU policy duration: 51 \tMean reward: -115.24853438727772\n",
            "Epoch 60000 \tLast run length: 199 \tWU policy duration: 50 \tMean reward: -116.027208310442\n",
            "Epoch 60500 \tLast run length: 199 \tWU policy duration: 50 \tMean reward: -116.77854561689868\n",
            "Epoch 61000 \tLast run length: 199 \tWU policy duration: 49 \tMean reward: -117.52066216720732\n",
            "Epoch 61500 \tLast run length: 199 \tWU policy duration: 49 \tMean reward: -118.23405602602989\n",
            "Epoch 62000 \tLast run length: 199 \tWU policy duration: 48 \tMean reward: -118.93557600830371\n",
            "Epoch 62500 \tLast run length: 199 \tWU policy duration: 48 \tMean reward: -119.61311098057095\n",
            "Epoch 63000 \tLast run length: 199 \tWU policy duration: 47 \tMean reward: -120.28126161566048\n",
            "Epoch 63500 \tLast run length: 199 \tWU policy duration: 47 \tMean reward: -120.93019570950577\n",
            "Epoch 64000 \tLast run length: 199 \tWU policy duration: 46 \tMean reward: -121.56861712934948\n",
            "Epoch 64500 \tLast run length: 199 \tWU policy duration: 46 \tMean reward: -122.19016971988421\n",
            "Epoch 65000 \tLast run length: 199 \tWU policy duration: 45 \tMean reward: -122.80228304447796\n",
            "Epoch 65500 \tLast run length: 199 \tWU policy duration: 45 \tMean reward: -123.40444493094654\n",
            "Epoch 66000 \tLast run length: 199 \tWU policy duration: 44 \tMean reward: -123.99745229804995\n",
            "Epoch 66500 \tLast run length: 199 \tWU policy duration: 44 \tMean reward: -124.57975407762366\n",
            "Epoch 67000 \tLast run length: 199 \tWU policy duration: 43 \tMean reward: -125.15276758483114\n",
            "Epoch 67500 \tLast run length: 199 \tWU policy duration: 43 \tMean reward: -125.71684720816758\n"
          ],
          "name": "stdout"
        },
        {
          "output_type": "error",
          "ename": "KeyboardInterrupt",
          "evalue": "ignored",
          "traceback": [
            "\u001b[0;31m---------------------------------------------------------------------------\u001b[0m",
            "\u001b[0;31mKeyboardInterrupt\u001b[0m                         Traceback (most recent call last)",
            "\u001b[0;32m<ipython-input-76-f199f1a807f8>\u001b[0m in \u001b[0;36m<module>\u001b[0;34m()\u001b[0m\n\u001b[0;32m----> 1\u001b[0;31m \u001b[0mtrain_policy\u001b[0m\u001b[0;34m(\u001b[0m\u001b[0mnn_policy\u001b[0m\u001b[0;34m,\u001b[0m \u001b[0mmodify_reward\u001b[0m\u001b[0;34m=\u001b[0m\u001b[0;32mTrue\u001b[0m\u001b[0;34m)\u001b[0m\u001b[0;34m\u001b[0m\u001b[0;34m\u001b[0m\u001b[0m\n\u001b[0m",
            "\u001b[0;32m<ipython-input-74-0881f277c556>\u001b[0m in \u001b[0;36mtrain_policy\u001b[0;34m(policy, n_epoches, max_iters, modify_reward, modification_scale, wu_policy, wu_dur, wu_decr)\u001b[0m\n\u001b[1;32m     17\u001b[0m         \u001b[0mcurr_reward\u001b[0m \u001b[0;34m+=\u001b[0m \u001b[0mreward\u001b[0m\u001b[0;34m\u001b[0m\u001b[0;34m\u001b[0m\u001b[0m\n\u001b[1;32m     18\u001b[0m       \u001b[0;32melse\u001b[0m\u001b[0;34m:\u001b[0m\u001b[0;34m\u001b[0m\u001b[0;34m\u001b[0m\u001b[0m\n\u001b[0;32m---> 19\u001b[0;31m         \u001b[0maction\u001b[0m \u001b[0;34m=\u001b[0m \u001b[0mpolicy\u001b[0m\u001b[0;34m.\u001b[0m\u001b[0mget_action\u001b[0m\u001b[0;34m(\u001b[0m\u001b[0mobs\u001b[0m\u001b[0;34m)\u001b[0m\u001b[0;34m\u001b[0m\u001b[0;34m\u001b[0m\u001b[0m\n\u001b[0m\u001b[1;32m     20\u001b[0m         \u001b[0mobs\u001b[0m\u001b[0;34m,\u001b[0m \u001b[0mreward\u001b[0m\u001b[0;34m,\u001b[0m \u001b[0mdone\u001b[0m\u001b[0;34m,\u001b[0m \u001b[0minfo\u001b[0m \u001b[0;34m=\u001b[0m \u001b[0menv\u001b[0m\u001b[0;34m.\u001b[0m\u001b[0mstep\u001b[0m\u001b[0;34m(\u001b[0m\u001b[0maction\u001b[0m\u001b[0;34m.\u001b[0m\u001b[0mitem\u001b[0m\u001b[0;34m(\u001b[0m\u001b[0;34m)\u001b[0m\u001b[0;34m)\u001b[0m\u001b[0;34m\u001b[0m\u001b[0;34m\u001b[0m\u001b[0m\n\u001b[1;32m     21\u001b[0m         \u001b[0;32mif\u001b[0m \u001b[0mmodify_reward\u001b[0m\u001b[0;34m:\u001b[0m\u001b[0;34m\u001b[0m\u001b[0;34m\u001b[0m\u001b[0m\n",
            "\u001b[0;32m<ipython-input-61-647afa826b09>\u001b[0m in \u001b[0;36mget_action\u001b[0;34m(self, obs, is_train)\u001b[0m\n\u001b[1;32m     13\u001b[0m     \u001b[0;32mif\u001b[0m \u001b[0;32mnot\u001b[0m \u001b[0mis_train\u001b[0m\u001b[0;34m:\u001b[0m\u001b[0;34m\u001b[0m\u001b[0;34m\u001b[0m\u001b[0m\n\u001b[1;32m     14\u001b[0m       \u001b[0mself\u001b[0m\u001b[0;34m.\u001b[0m\u001b[0mfnn\u001b[0m\u001b[0;34m.\u001b[0m\u001b[0meval\u001b[0m\u001b[0;34m(\u001b[0m\u001b[0;34m)\u001b[0m\u001b[0;34m\u001b[0m\u001b[0;34m\u001b[0m\u001b[0m\n\u001b[0;32m---> 15\u001b[0;31m     \u001b[0mprobs\u001b[0m \u001b[0;34m=\u001b[0m \u001b[0mself\u001b[0m\u001b[0;34m.\u001b[0m\u001b[0mfnn\u001b[0m\u001b[0;34m(\u001b[0m\u001b[0mtorch\u001b[0m\u001b[0;34m.\u001b[0m\u001b[0mTensor\u001b[0m\u001b[0;34m(\u001b[0m\u001b[0mobs\u001b[0m\u001b[0;34m)\u001b[0m\u001b[0;34m)\u001b[0m\u001b[0;34m\u001b[0m\u001b[0;34m\u001b[0m\u001b[0m\n\u001b[0m\u001b[1;32m     16\u001b[0m     \u001b[0mdistr\u001b[0m \u001b[0;34m=\u001b[0m \u001b[0mtorch\u001b[0m\u001b[0;34m.\u001b[0m\u001b[0mdistributions\u001b[0m\u001b[0;34m.\u001b[0m\u001b[0mCategorical\u001b[0m\u001b[0;34m(\u001b[0m\u001b[0mprobs\u001b[0m\u001b[0;34m)\u001b[0m\u001b[0;34m\u001b[0m\u001b[0;34m\u001b[0m\u001b[0m\n\u001b[1;32m     17\u001b[0m     \u001b[0maction\u001b[0m \u001b[0;34m=\u001b[0m \u001b[0mdistr\u001b[0m\u001b[0;34m.\u001b[0m\u001b[0msample\u001b[0m\u001b[0;34m(\u001b[0m\u001b[0;34m)\u001b[0m\u001b[0;34m\u001b[0m\u001b[0;34m\u001b[0m\u001b[0m\n",
            "\u001b[0;32m/usr/local/lib/python3.6/dist-packages/torch/nn/modules/module.py\u001b[0m in \u001b[0;36m_call_impl\u001b[0;34m(self, *input, **kwargs)\u001b[0m\n\u001b[1;32m    725\u001b[0m             \u001b[0mresult\u001b[0m \u001b[0;34m=\u001b[0m \u001b[0mself\u001b[0m\u001b[0;34m.\u001b[0m\u001b[0m_slow_forward\u001b[0m\u001b[0;34m(\u001b[0m\u001b[0;34m*\u001b[0m\u001b[0minput\u001b[0m\u001b[0;34m,\u001b[0m \u001b[0;34m**\u001b[0m\u001b[0mkwargs\u001b[0m\u001b[0;34m)\u001b[0m\u001b[0;34m\u001b[0m\u001b[0;34m\u001b[0m\u001b[0m\n\u001b[1;32m    726\u001b[0m         \u001b[0;32melse\u001b[0m\u001b[0;34m:\u001b[0m\u001b[0;34m\u001b[0m\u001b[0;34m\u001b[0m\u001b[0m\n\u001b[0;32m--> 727\u001b[0;31m             \u001b[0mresult\u001b[0m \u001b[0;34m=\u001b[0m \u001b[0mself\u001b[0m\u001b[0;34m.\u001b[0m\u001b[0mforward\u001b[0m\u001b[0;34m(\u001b[0m\u001b[0;34m*\u001b[0m\u001b[0minput\u001b[0m\u001b[0;34m,\u001b[0m \u001b[0;34m**\u001b[0m\u001b[0mkwargs\u001b[0m\u001b[0;34m)\u001b[0m\u001b[0;34m\u001b[0m\u001b[0;34m\u001b[0m\u001b[0m\n\u001b[0m\u001b[1;32m    728\u001b[0m         for hook in itertools.chain(\n\u001b[1;32m    729\u001b[0m                 \u001b[0m_global_forward_hooks\u001b[0m\u001b[0;34m.\u001b[0m\u001b[0mvalues\u001b[0m\u001b[0;34m(\u001b[0m\u001b[0;34m)\u001b[0m\u001b[0;34m,\u001b[0m\u001b[0;34m\u001b[0m\u001b[0;34m\u001b[0m\u001b[0m\n",
            "\u001b[0;32m<ipython-input-60-89221bbbab9c>\u001b[0m in \u001b[0;36mforward\u001b[0;34m(self, X)\u001b[0m\n\u001b[1;32m     17\u001b[0m     \u001b[0mX\u001b[0m \u001b[0;34m=\u001b[0m \u001b[0mself\u001b[0m\u001b[0;34m.\u001b[0m\u001b[0mact1\u001b[0m\u001b[0;34m(\u001b[0m\u001b[0mX\u001b[0m\u001b[0;34m)\u001b[0m\u001b[0;34m\u001b[0m\u001b[0;34m\u001b[0m\u001b[0m\n\u001b[1;32m     18\u001b[0m     \u001b[0mX\u001b[0m \u001b[0;34m=\u001b[0m \u001b[0mself\u001b[0m\u001b[0;34m.\u001b[0m\u001b[0mfc2\u001b[0m\u001b[0;34m(\u001b[0m\u001b[0mX\u001b[0m\u001b[0;34m)\u001b[0m\u001b[0;34m\u001b[0m\u001b[0;34m\u001b[0m\u001b[0m\n\u001b[0;32m---> 19\u001b[0;31m     \u001b[0mX\u001b[0m \u001b[0;34m=\u001b[0m \u001b[0mself\u001b[0m\u001b[0;34m.\u001b[0m\u001b[0mdo2\u001b[0m\u001b[0;34m(\u001b[0m\u001b[0mX\u001b[0m\u001b[0;34m)\u001b[0m\u001b[0;34m\u001b[0m\u001b[0;34m\u001b[0m\u001b[0m\n\u001b[0m\u001b[1;32m     20\u001b[0m     \u001b[0mX\u001b[0m \u001b[0;34m=\u001b[0m \u001b[0mself\u001b[0m\u001b[0;34m.\u001b[0m\u001b[0mact2\u001b[0m\u001b[0;34m(\u001b[0m\u001b[0mX\u001b[0m\u001b[0;34m)\u001b[0m\u001b[0;34m\u001b[0m\u001b[0;34m\u001b[0m\u001b[0m\n\u001b[1;32m     21\u001b[0m     \u001b[0mX\u001b[0m \u001b[0;34m=\u001b[0m \u001b[0mself\u001b[0m\u001b[0;34m.\u001b[0m\u001b[0mfc3\u001b[0m\u001b[0;34m(\u001b[0m\u001b[0mX\u001b[0m\u001b[0;34m)\u001b[0m\u001b[0;34m\u001b[0m\u001b[0;34m\u001b[0m\u001b[0m\n",
            "\u001b[0;32m/usr/local/lib/python3.6/dist-packages/torch/nn/modules/module.py\u001b[0m in \u001b[0;36m_call_impl\u001b[0;34m(self, *input, **kwargs)\u001b[0m\n\u001b[1;32m    725\u001b[0m             \u001b[0mresult\u001b[0m \u001b[0;34m=\u001b[0m \u001b[0mself\u001b[0m\u001b[0;34m.\u001b[0m\u001b[0m_slow_forward\u001b[0m\u001b[0;34m(\u001b[0m\u001b[0;34m*\u001b[0m\u001b[0minput\u001b[0m\u001b[0;34m,\u001b[0m \u001b[0;34m**\u001b[0m\u001b[0mkwargs\u001b[0m\u001b[0;34m)\u001b[0m\u001b[0;34m\u001b[0m\u001b[0;34m\u001b[0m\u001b[0m\n\u001b[1;32m    726\u001b[0m         \u001b[0;32melse\u001b[0m\u001b[0;34m:\u001b[0m\u001b[0;34m\u001b[0m\u001b[0;34m\u001b[0m\u001b[0m\n\u001b[0;32m--> 727\u001b[0;31m             \u001b[0mresult\u001b[0m \u001b[0;34m=\u001b[0m \u001b[0mself\u001b[0m\u001b[0;34m.\u001b[0m\u001b[0mforward\u001b[0m\u001b[0;34m(\u001b[0m\u001b[0;34m*\u001b[0m\u001b[0minput\u001b[0m\u001b[0;34m,\u001b[0m \u001b[0;34m**\u001b[0m\u001b[0mkwargs\u001b[0m\u001b[0;34m)\u001b[0m\u001b[0;34m\u001b[0m\u001b[0;34m\u001b[0m\u001b[0m\n\u001b[0m\u001b[1;32m    728\u001b[0m         for hook in itertools.chain(\n\u001b[1;32m    729\u001b[0m                 \u001b[0m_global_forward_hooks\u001b[0m\u001b[0;34m.\u001b[0m\u001b[0mvalues\u001b[0m\u001b[0;34m(\u001b[0m\u001b[0;34m)\u001b[0m\u001b[0;34m,\u001b[0m\u001b[0;34m\u001b[0m\u001b[0;34m\u001b[0m\u001b[0m\n",
            "\u001b[0;32m/usr/local/lib/python3.6/dist-packages/torch/nn/modules/dropout.py\u001b[0m in \u001b[0;36mforward\u001b[0;34m(self, input)\u001b[0m\n\u001b[1;32m     56\u001b[0m \u001b[0;34m\u001b[0m\u001b[0m\n\u001b[1;32m     57\u001b[0m     \u001b[0;32mdef\u001b[0m \u001b[0mforward\u001b[0m\u001b[0;34m(\u001b[0m\u001b[0mself\u001b[0m\u001b[0;34m,\u001b[0m \u001b[0minput\u001b[0m\u001b[0;34m:\u001b[0m \u001b[0mTensor\u001b[0m\u001b[0;34m)\u001b[0m \u001b[0;34m->\u001b[0m \u001b[0mTensor\u001b[0m\u001b[0;34m:\u001b[0m\u001b[0;34m\u001b[0m\u001b[0;34m\u001b[0m\u001b[0m\n\u001b[0;32m---> 58\u001b[0;31m         \u001b[0;32mreturn\u001b[0m \u001b[0mF\u001b[0m\u001b[0;34m.\u001b[0m\u001b[0mdropout\u001b[0m\u001b[0;34m(\u001b[0m\u001b[0minput\u001b[0m\u001b[0;34m,\u001b[0m \u001b[0mself\u001b[0m\u001b[0;34m.\u001b[0m\u001b[0mp\u001b[0m\u001b[0;34m,\u001b[0m \u001b[0mself\u001b[0m\u001b[0;34m.\u001b[0m\u001b[0mtraining\u001b[0m\u001b[0;34m,\u001b[0m \u001b[0mself\u001b[0m\u001b[0;34m.\u001b[0m\u001b[0minplace\u001b[0m\u001b[0;34m)\u001b[0m\u001b[0;34m\u001b[0m\u001b[0;34m\u001b[0m\u001b[0m\n\u001b[0m\u001b[1;32m     59\u001b[0m \u001b[0;34m\u001b[0m\u001b[0m\n\u001b[1;32m     60\u001b[0m \u001b[0;34m\u001b[0m\u001b[0m\n",
            "\u001b[0;32m/usr/local/lib/python3.6/dist-packages/torch/nn/functional.py\u001b[0m in \u001b[0;36mdropout\u001b[0;34m(input, p, training, inplace)\u001b[0m\n\u001b[1;32m    981\u001b[0m     return (_VF.dropout_(input, p, training)\n\u001b[1;32m    982\u001b[0m             \u001b[0;32mif\u001b[0m \u001b[0minplace\u001b[0m\u001b[0;34m\u001b[0m\u001b[0;34m\u001b[0m\u001b[0m\n\u001b[0;32m--> 983\u001b[0;31m             else _VF.dropout(input, p, training))\n\u001b[0m\u001b[1;32m    984\u001b[0m \u001b[0;34m\u001b[0m\u001b[0m\n\u001b[1;32m    985\u001b[0m \u001b[0;34m\u001b[0m\u001b[0m\n",
            "\u001b[0;31mKeyboardInterrupt\u001b[0m: "
          ]
        }
      ]
    },
    {
      "cell_type": "markdown",
      "metadata": {
        "id": "9OsX1XLHb4nI"
      },
      "source": [
        "Many experiments were taken and PG fails to learn policy for this problem"
      ]
    },
    {
      "cell_type": "markdown",
      "metadata": {
        "id": "v17DywI_dAtb"
      },
      "source": [
        "## DQN"
      ]
    },
    {
      "cell_type": "code",
      "metadata": {
        "id": "MbCHEVBeAM8C"
      },
      "source": [
        "GAMMA = 0.99 # discount factor\r\n",
        "BATCH_SIZE = 256"
      ],
      "execution_count": null,
      "outputs": []
    },
    {
      "cell_type": "code",
      "metadata": {
        "id": "M8NPNkmdMdH5"
      },
      "source": [
        "class MC_DQN(nn.Module):\r\n",
        "  def __init__(self, hidden_dim=32, use_norm=False):\r\n",
        "    super().__init__()\r\n",
        "\r\n",
        "    self.use_norm = use_norm\r\n",
        "\r\n",
        "    self.fc1 = nn.Linear(2, hidden_dim)\r\n",
        "    if use_norm:\r\n",
        "      self.norm1 = nn.LayerNorm(hidden_dim)\r\n",
        "    self.act1 = nn.ELU()\r\n",
        "    self.fc2 = nn.Linear(hidden_dim, hidden_dim)\r\n",
        "    if use_norm:\r\n",
        "      self.norm2 = nn.LayerNorm(hidden_dim)\r\n",
        "    self.act2 = nn.ELU()\r\n",
        "    self.fc3 = nn.Linear(hidden_dim, 3)\r\n",
        "\r\n",
        "\r\n",
        "  def forward(self, X):\r\n",
        "    X = self.fc1(X)\r\n",
        "    if self.use_norm:\r\n",
        "      X = self.norm1(X)\r\n",
        "    X = self.act1(X)\r\n",
        "    X = self.fc2(X)\r\n",
        "    if self.use_norm:\r\n",
        "      X = self.norm2(X)\r\n",
        "    X = self.act2(X)\r\n",
        "    X = self.fc3(X)\r\n",
        "    return X"
      ],
      "execution_count": null,
      "outputs": []
    },
    {
      "cell_type": "code",
      "metadata": {
        "id": "-B_aKJSYjgNq"
      },
      "source": [
        "class Memmory():\r\n",
        "  def __init__(self, capacity=5000):\r\n",
        "    self.capacity = capacity\r\n",
        "    self.storage = deque([], maxlen=capacity)\r\n",
        "\r\n",
        "\r\n",
        "  def add(self, data):\r\n",
        "    self.storage.append(data)\r\n",
        "\r\n",
        "\r\n",
        "  def sample(self, batch_size):\r\n",
        "    obs, actions, rewards, new_obs, done = [], [], [], [], []\r\n",
        "\r\n",
        "    ind = np.random.permutation(len(self.storage))[:batch_size]\r\n",
        "\r\n",
        "    for i in ind:\r\n",
        "      sample = self.storage[i]\r\n",
        "      \r\n",
        "      obs.append(sample[0])\r\n",
        "      actions.append(sample[1])\r\n",
        "      rewards.append(sample[2])\r\n",
        "      new_obs.append(sample[3])\r\n",
        "      done.append(sample[4])\r\n",
        "      \r\n",
        "    return obs, actions, rewards, new_obs, done\r\n",
        "\r\n",
        "  def __len__(self):\r\n",
        "    return len(self.storage)"
      ],
      "execution_count": null,
      "outputs": []
    },
    {
      "cell_type": "code",
      "metadata": {
        "id": "gsLeTMavl28h"
      },
      "source": [
        "class DQN_policy():\r\n",
        "  def __init__(self, fnn, lr=1e-4, copy_intervals=1000,\r\n",
        "               mem_size=5000,\r\n",
        "               eps_max=0.5, eps_min=0.1, eps_decay_steps=100000):\r\n",
        "    self.online_dqn = fnn\r\n",
        "    self.target_dqn = deepcopy(fnn)\r\n",
        "    self.target_dqn.eval()\r\n",
        "\r\n",
        "    self.optimizer = torch.optim.Adam(self.online_dqn.parameters(), lr=lr)\r\n",
        "\r\n",
        "    self.mem = Memmory(mem_size)\r\n",
        "\r\n",
        "    self.copy_intervals = copy_intervals\r\n",
        "    self.eps_max = eps_max\r\n",
        "    self.eps_min = eps_min\r\n",
        "    self.eps_decay = eps_decay_steps\r\n",
        "    self.step = 0\r\n",
        "\r\n",
        "    self.log_rewards = []\r\n",
        "\r\n",
        "  def get_action(self, obs, eps, dqn):\r\n",
        "    if random.random() < eps:\r\n",
        "      return random.randint(0, 2)\r\n",
        "    else:\r\n",
        "      out = dqn(torch.Tensor(obs))\r\n",
        "      return torch.argmax(out).item()\r\n",
        "\r\n",
        "\r\n",
        "  def __call__(self, obs):\r\n",
        "    return self.get_action(obs, 0, self.target_dqn)\r\n",
        "\r\n",
        "\r\n",
        "  def update(self):\r\n",
        "      obs, actions, rewards, new_obs, done = self.mem.sample(BATCH_SIZE)\r\n",
        "\r\n",
        "      obs = torch.FloatTensor(obs)\r\n",
        "      actions = torch.tensor(actions)\r\n",
        "      rewards = torch.FloatTensor(rewards)\r\n",
        "      new_obs = torch.FloatTensor(new_obs)\r\n",
        "      done = torch.tensor(done)\r\n",
        "\r\n",
        "      target_q = None\r\n",
        "      with torch.no_grad():\r\n",
        "        target_q = torch.max(self.target_dqn(new_obs), 1)[0]\r\n",
        "        target_q[done] = 0\r\n",
        "      target_q = (rewards + GAMMA * target_q).unsqueeze(1)\r\n",
        "\r\n",
        "      pred_q =  self.online_dqn(obs)\r\n",
        "      pred_q = torch.gather(pred_q, 1, actions.unsqueeze(1))\r\n",
        "      criterion = nn.MSELoss()\r\n",
        "      loss = criterion(target_q, pred_q)\r\n",
        "\r\n",
        "      self.optimizer.zero_grad()\r\n",
        "      loss.backward()\r\n",
        "      for param in self.online_dqn.parameters():\r\n",
        "        param.grad.data.clamp_(-1, 1)\r\n",
        "      self.optimizer.step()\r\n",
        "\r\n",
        "\r\n",
        "  def train(self, evniroment, n_steps=100000, \r\n",
        "            modify_reward=True, reward_modif_scale=300):\r\n",
        "    obs = evniroment.reset()\r\n",
        "    for s in range(n_steps): \r\n",
        "      eps = max(self.eps_min, self.eps_max - self.eps_min * self.step / self.eps_decay)     \r\n",
        "      action = self.get_action(obs, eps, self.online_dqn)\r\n",
        "      new_obs, reward, done, _ = evniroment.step(action)\r\n",
        "\r\n",
        "      if modify_reward:\r\n",
        "        reward += reward_modif_scale * (GAMMA * abs(new_obs[1]) - abs(obs[1]))\r\n",
        "\r\n",
        "      self.mem.add((obs, action, reward, new_obs, done))\r\n",
        "\r\n",
        "      obs = evniroment.reset() if done else new_obs\r\n",
        "\r\n",
        "      self.update()\r\n",
        "\r\n",
        "      if self.step % self.copy_intervals == 0:\r\n",
        "          self.target_dqn = deepcopy(self.online_dqn)\r\n",
        "          self.target_dqn.eval()\r\n",
        "\r\n",
        "          obs = evniroment.reset()\r\n",
        "          done = False\r\n",
        "          obtained_reward = 0\r\n",
        "\r\n",
        "          while not done:\r\n",
        "            action = self.get_action(obs, 0, self.target_dqn)\r\n",
        "            obs, reward, done, _ = evniroment.step(action)\r\n",
        "            obtained_reward += reward\r\n",
        "\r\n",
        "          self.log_rewards.append(obtained_reward)\r\n",
        "          print('Step', self.step, '\\treward:', obtained_reward)\r\n",
        "\r\n",
        "      self.step += 1"
      ],
      "execution_count": null,
      "outputs": []
    },
    {
      "cell_type": "code",
      "metadata": {
        "id": "cRZrfHZUsLrz"
      },
      "source": [
        "dqn_policy = DQN_policy(MC_DQN())"
      ],
      "execution_count": null,
      "outputs": []
    },
    {
      "cell_type": "code",
      "metadata": {
        "colab": {
          "base_uri": "https://localhost:8080/"
        },
        "id": "ecFP-9n5sSFa",
        "outputId": "3021eb23-a715-46a8-c5a1-53667265c356"
      },
      "source": [
        "dqn_policy.train(env, 150000)"
      ],
      "execution_count": null,
      "outputs": [
        {
          "output_type": "stream",
          "text": [
            "Step 0 \treward: -200.0\n",
            "Step 1000 \treward: -200.0\n",
            "Step 2000 \treward: -200.0\n",
            "Step 3000 \treward: -200.0\n",
            "Step 4000 \treward: -200.0\n",
            "Step 5000 \treward: -170.0\n",
            "Step 6000 \treward: -138.0\n",
            "Step 7000 \treward: -136.0\n",
            "Step 8000 \treward: -176.0\n",
            "Step 9000 \treward: -141.0\n",
            "Step 10000 \treward: -136.0\n",
            "Step 11000 \treward: -137.0\n",
            "Step 12000 \treward: -139.0\n",
            "Step 13000 \treward: -181.0\n",
            "Step 14000 \treward: -186.0\n",
            "Step 15000 \treward: -179.0\n",
            "Step 16000 \treward: -135.0\n",
            "Step 17000 \treward: -140.0\n",
            "Step 18000 \treward: -109.0\n",
            "Step 19000 \treward: -113.0\n",
            "Step 20000 \treward: -116.0\n",
            "Step 21000 \treward: -142.0\n",
            "Step 22000 \treward: -112.0\n",
            "Step 23000 \treward: -199.0\n",
            "Step 24000 \treward: -110.0\n",
            "Step 25000 \treward: -159.0\n",
            "Step 26000 \treward: -159.0\n",
            "Step 27000 \treward: -111.0\n",
            "Step 28000 \treward: -111.0\n",
            "Step 29000 \treward: -100.0\n",
            "Step 30000 \treward: -156.0\n",
            "Step 31000 \treward: -132.0\n",
            "Step 32000 \treward: -106.0\n",
            "Step 33000 \treward: -106.0\n",
            "Step 34000 \treward: -107.0\n",
            "Step 35000 \treward: -110.0\n",
            "Step 36000 \treward: -112.0\n",
            "Step 37000 \treward: -109.0\n",
            "Step 38000 \treward: -108.0\n",
            "Step 39000 \treward: -87.0\n",
            "Step 40000 \treward: -98.0\n",
            "Step 41000 \treward: -109.0\n",
            "Step 42000 \treward: -107.0\n",
            "Step 43000 \treward: -114.0\n",
            "Step 44000 \treward: -107.0\n",
            "Step 45000 \treward: -93.0\n",
            "Step 46000 \treward: -86.0\n",
            "Step 47000 \treward: -171.0\n",
            "Step 48000 \treward: -92.0\n",
            "Step 49000 \treward: -84.0\n",
            "Step 50000 \treward: -113.0\n",
            "Step 51000 \treward: -84.0\n",
            "Step 52000 \treward: -111.0\n",
            "Step 53000 \treward: -91.0\n",
            "Step 54000 \treward: -112.0\n",
            "Step 55000 \treward: -178.0\n",
            "Step 56000 \treward: -156.0\n",
            "Step 57000 \treward: -161.0\n",
            "Step 58000 \treward: -162.0\n",
            "Step 59000 \treward: -127.0\n",
            "Step 60000 \treward: -165.0\n",
            "Step 61000 \treward: -166.0\n",
            "Step 62000 \treward: -103.0\n",
            "Step 63000 \treward: -166.0\n",
            "Step 64000 \treward: -88.0\n",
            "Step 65000 \treward: -93.0\n",
            "Step 66000 \treward: -93.0\n",
            "Step 67000 \treward: -160.0\n",
            "Step 68000 \treward: -94.0\n",
            "Step 69000 \treward: -100.0\n",
            "Step 70000 \treward: -98.0\n",
            "Step 71000 \treward: -92.0\n",
            "Step 72000 \treward: -157.0\n",
            "Step 73000 \treward: -159.0\n",
            "Step 74000 \treward: -160.0\n",
            "Step 75000 \treward: -200.0\n",
            "Step 76000 \treward: -200.0\n",
            "Step 77000 \treward: -90.0\n",
            "Step 78000 \treward: -200.0\n",
            "Step 79000 \treward: -200.0\n",
            "Step 80000 \treward: -165.0\n",
            "Step 81000 \treward: -196.0\n",
            "Step 82000 \treward: -200.0\n",
            "Step 83000 \treward: -171.0\n",
            "Step 84000 \treward: -124.0\n",
            "Step 85000 \treward: -155.0\n",
            "Step 86000 \treward: -174.0\n",
            "Step 87000 \treward: -127.0\n",
            "Step 88000 \treward: -200.0\n",
            "Step 89000 \treward: -157.0\n",
            "Step 90000 \treward: -90.0\n",
            "Step 91000 \treward: -100.0\n",
            "Step 92000 \treward: -146.0\n",
            "Step 93000 \treward: -90.0\n",
            "Step 94000 \treward: -95.0\n",
            "Step 95000 \treward: -151.0\n",
            "Step 96000 \treward: -145.0\n",
            "Step 97000 \treward: -199.0\n",
            "Step 98000 \treward: -158.0\n",
            "Step 99000 \treward: -93.0\n",
            "Step 100000 \treward: -153.0\n",
            "Step 101000 \treward: -114.0\n",
            "Step 102000 \treward: -111.0\n",
            "Step 103000 \treward: -111.0\n",
            "Step 104000 \treward: -112.0\n",
            "Step 105000 \treward: -113.0\n",
            "Step 106000 \treward: -120.0\n",
            "Step 107000 \treward: -112.0\n",
            "Step 108000 \treward: -111.0\n",
            "Step 109000 \treward: -112.0\n",
            "Step 110000 \treward: -110.0\n",
            "Step 111000 \treward: -112.0\n",
            "Step 112000 \treward: -110.0\n",
            "Step 113000 \treward: -110.0\n",
            "Step 114000 \treward: -111.0\n",
            "Step 115000 \treward: -117.0\n",
            "Step 116000 \treward: -108.0\n",
            "Step 117000 \treward: -109.0\n",
            "Step 118000 \treward: -111.0\n",
            "Step 119000 \treward: -109.0\n",
            "Step 120000 \treward: -179.0\n",
            "Step 121000 \treward: -83.0\n",
            "Step 122000 \treward: -108.0\n",
            "Step 123000 \treward: -107.0\n",
            "Step 124000 \treward: -89.0\n",
            "Step 125000 \treward: -166.0\n",
            "Step 126000 \treward: -91.0\n",
            "Step 127000 \treward: -107.0\n",
            "Step 128000 \treward: -168.0\n",
            "Step 129000 \treward: -159.0\n",
            "Step 130000 \treward: -194.0\n",
            "Step 131000 \treward: -92.0\n",
            "Step 132000 \treward: -112.0\n",
            "Step 133000 \treward: -109.0\n",
            "Step 134000 \treward: -86.0\n",
            "Step 135000 \treward: -85.0\n",
            "Step 136000 \treward: -85.0\n",
            "Step 137000 \treward: -152.0\n",
            "Step 138000 \treward: -151.0\n",
            "Step 139000 \treward: -151.0\n",
            "Step 140000 \treward: -151.0\n",
            "Step 141000 \treward: -85.0\n",
            "Step 142000 \treward: -95.0\n",
            "Step 143000 \treward: -152.0\n",
            "Step 144000 \treward: -170.0\n",
            "Step 145000 \treward: -88.0\n",
            "Step 146000 \treward: -87.0\n",
            "Step 147000 \treward: -86.0\n",
            "Step 148000 \treward: -144.0\n",
            "Step 149000 \treward: -86.0\n"
          ],
          "name": "stdout"
        }
      ]
    },
    {
      "cell_type": "code",
      "metadata": {
        "id": "B3EOUR1jbHyC",
        "colab": {
          "base_uri": "https://localhost:8080/"
        },
        "outputId": "8f24280c-fde0-459e-f064-8f0879fbab30"
      },
      "source": [
        "test_policy(env, 100, dqn_policy)"
      ],
      "execution_count": null,
      "outputs": [
        {
          "output_type": "stream",
          "text": [
            "mean: -128.57 \n",
            "std: 28.60778041023106 \n",
            "min: -186.0 \n",
            "max: -84.0\n"
          ],
          "name": "stdout"
        }
      ]
    },
    {
      "cell_type": "code",
      "metadata": {
        "id": "aYJzionYlFEN"
      },
      "source": [
        "dqn_policy = DQN_policy(MC_DQN())"
      ],
      "execution_count": null,
      "outputs": []
    },
    {
      "cell_type": "code",
      "metadata": {
        "colab": {
          "base_uri": "https://localhost:8080/"
        },
        "id": "T0PRr2p_lNnp",
        "outputId": "bbc32286-70c4-452c-e07b-528b105bf8ea"
      },
      "source": [
        "dqn_policy.traina(env, 150001, reward_modif_scale=500)"
      ],
      "execution_count": null,
      "outputs": [
        {
          "output_type": "stream",
          "text": [
            "Step 0 \treward: -200.0\n",
            "Step 1000 \treward: -200.0\n",
            "Step 2000 \treward: -200.0\n",
            "Step 3000 \treward: -200.0\n",
            "Step 4000 \treward: -200.0\n",
            "Step 5000 \treward: -200.0\n",
            "Step 6000 \treward: -156.0\n",
            "Step 7000 \treward: -158.0\n",
            "Step 8000 \treward: -200.0\n",
            "Step 9000 \treward: -200.0\n",
            "Step 10000 \treward: -149.0\n",
            "Step 11000 \treward: -200.0\n",
            "Step 12000 \treward: -139.0\n",
            "Step 13000 \treward: -139.0\n",
            "Step 14000 \treward: -133.0\n",
            "Step 15000 \treward: -138.0\n",
            "Step 16000 \treward: -137.0\n",
            "Step 17000 \treward: -136.0\n",
            "Step 18000 \treward: -137.0\n",
            "Step 19000 \treward: -175.0\n",
            "Step 20000 \treward: -172.0\n",
            "Step 21000 \treward: -142.0\n",
            "Step 22000 \treward: -148.0\n",
            "Step 23000 \treward: -142.0\n",
            "Step 24000 \treward: -142.0\n",
            "Step 25000 \treward: -87.0\n",
            "Step 26000 \treward: -148.0\n",
            "Step 27000 \treward: -139.0\n",
            "Step 28000 \treward: -95.0\n",
            "Step 29000 \treward: -145.0\n",
            "Step 30000 \treward: -91.0\n",
            "Step 31000 \treward: -152.0\n",
            "Step 32000 \treward: -146.0\n",
            "Step 33000 \treward: -87.0\n",
            "Step 34000 \treward: -138.0\n",
            "Step 35000 \treward: -106.0\n",
            "Step 36000 \treward: -135.0\n",
            "Step 37000 \treward: -91.0\n",
            "Step 38000 \treward: -136.0\n",
            "Step 39000 \treward: -131.0\n",
            "Step 40000 \treward: -134.0\n",
            "Step 41000 \treward: -137.0\n",
            "Step 42000 \treward: -137.0\n",
            "Step 43000 \treward: -153.0\n",
            "Step 44000 \treward: -143.0\n",
            "Step 45000 \treward: -94.0\n",
            "Step 46000 \treward: -137.0\n",
            "Step 47000 \treward: -141.0\n",
            "Step 48000 \treward: -87.0\n",
            "Step 49000 \treward: -146.0\n",
            "Step 50000 \treward: -152.0\n",
            "Step 51000 \treward: -148.0\n",
            "Step 52000 \treward: -151.0\n",
            "Step 53000 \treward: -160.0\n",
            "Step 54000 \treward: -154.0\n",
            "Step 55000 \treward: -162.0\n",
            "Step 56000 \treward: -155.0\n",
            "Step 57000 \treward: -175.0\n",
            "Step 58000 \treward: -93.0\n",
            "Step 59000 \treward: -98.0\n",
            "Step 60000 \treward: -96.0\n",
            "Step 61000 \treward: -161.0\n",
            "Step 62000 \treward: -200.0\n",
            "Step 63000 \treward: -160.0\n",
            "Step 64000 \treward: -200.0\n",
            "Step 65000 \treward: -170.0\n",
            "Step 66000 \treward: -161.0\n",
            "Step 67000 \treward: -200.0\n",
            "Step 68000 \treward: -156.0\n",
            "Step 69000 \treward: -90.0\n",
            "Step 70000 \treward: -165.0\n",
            "Step 71000 \treward: -153.0\n",
            "Step 72000 \treward: -94.0\n",
            "Step 73000 \treward: -159.0\n",
            "Step 74000 \treward: -153.0\n",
            "Step 75000 \treward: -161.0\n",
            "Step 76000 \treward: -89.0\n",
            "Step 77000 \treward: -152.0\n",
            "Step 78000 \treward: -96.0\n",
            "Step 79000 \treward: -99.0\n",
            "Step 80000 \treward: -84.0\n",
            "Step 81000 \treward: -148.0\n",
            "Step 82000 \treward: -152.0\n",
            "Step 83000 \treward: -151.0\n",
            "Step 84000 \treward: -103.0\n",
            "Step 85000 \treward: -160.0\n",
            "Step 86000 \treward: -105.0\n",
            "Step 87000 \treward: -85.0\n",
            "Step 88000 \treward: -113.0\n",
            "Step 89000 \treward: -87.0\n",
            "Step 90000 \treward: -92.0\n",
            "Step 91000 \treward: -157.0\n",
            "Step 92000 \treward: -146.0\n",
            "Step 93000 \treward: -108.0\n",
            "Step 94000 \treward: -161.0\n",
            "Step 95000 \treward: -86.0\n",
            "Step 96000 \treward: -96.0\n",
            "Step 97000 \treward: -109.0\n",
            "Step 98000 \treward: -143.0\n",
            "Step 99000 \treward: -145.0\n",
            "Step 100000 \treward: -135.0\n",
            "Step 101000 \treward: -110.0\n",
            "Step 102000 \treward: -145.0\n",
            "Step 103000 \treward: -145.0\n",
            "Step 104000 \treward: -110.0\n",
            "Step 105000 \treward: -110.0\n",
            "Step 106000 \treward: -92.0\n",
            "Step 107000 \treward: -108.0\n",
            "Step 108000 \treward: -106.0\n",
            "Step 109000 \treward: -110.0\n",
            "Step 110000 \treward: -156.0\n",
            "Step 111000 \treward: -112.0\n",
            "Step 112000 \treward: -146.0\n",
            "Step 113000 \treward: -109.0\n",
            "Step 114000 \treward: -148.0\n",
            "Step 115000 \treward: -107.0\n",
            "Step 116000 \treward: -109.0\n",
            "Step 117000 \treward: -110.0\n",
            "Step 118000 \treward: -111.0\n",
            "Step 119000 \treward: -107.0\n",
            "Step 120000 \treward: -110.0\n",
            "Step 121000 \treward: -107.0\n",
            "Step 122000 \treward: -150.0\n",
            "Step 123000 \treward: -148.0\n",
            "Step 124000 \treward: -141.0\n",
            "Step 125000 \treward: -146.0\n",
            "Step 126000 \treward: -110.0\n",
            "Step 127000 \treward: -164.0\n",
            "Step 128000 \treward: -146.0\n",
            "Step 129000 \treward: -108.0\n",
            "Step 130000 \treward: -148.0\n",
            "Step 131000 \treward: -107.0\n",
            "Step 132000 \treward: -109.0\n",
            "Step 133000 \treward: -157.0\n",
            "Step 134000 \treward: -110.0\n",
            "Step 135000 \treward: -110.0\n",
            "Step 136000 \treward: -108.0\n",
            "Step 137000 \treward: -109.0\n",
            "Step 138000 \treward: -111.0\n",
            "Step 139000 \treward: -109.0\n",
            "Step 140000 \treward: -111.0\n",
            "Step 141000 \treward: -111.0\n",
            "Step 142000 \treward: -109.0\n",
            "Step 143000 \treward: -110.0\n",
            "Step 144000 \treward: -106.0\n",
            "Step 145000 \treward: -149.0\n",
            "Step 146000 \treward: -150.0\n",
            "Step 147000 \treward: -183.0\n",
            "Step 148000 \treward: -87.0\n",
            "Step 149000 \treward: -152.0\n",
            "Step 150000 \treward: -152.0\n"
          ],
          "name": "stdout"
        }
      ]
    },
    {
      "cell_type": "code",
      "metadata": {
        "colab": {
          "base_uri": "https://localhost:8080/"
        },
        "id": "oYxuyi_glQ9t",
        "outputId": "9814c0a3-82bb-4e16-fb8e-1224aa9445f8"
      },
      "source": [
        "test_policy(env, 100, dqn_policy)"
      ],
      "execution_count": null,
      "outputs": [
        {
          "output_type": "stream",
          "text": [
            "mean: -129.85 \n",
            "std: 32.733583671819375 \n",
            "min: -191.0 \n",
            "max: -83.0\n"
          ],
          "name": "stdout"
        }
      ]
    },
    {
      "cell_type": "code",
      "metadata": {
        "id": "OUyQMxtdnra4"
      },
      "source": [
        "dqn_policy = DQN_policy(MC_DQN(), eps_min=0.2)"
      ],
      "execution_count": null,
      "outputs": []
    },
    {
      "cell_type": "code",
      "metadata": {
        "colab": {
          "base_uri": "https://localhost:8080/"
        },
        "id": "SIiL_-PyohDl",
        "outputId": "a9d6f430-8ea5-45ae-cab9-e5927cffe1d7"
      },
      "source": [
        "dqn_policy.train(env, 110001)"
      ],
      "execution_count": null,
      "outputs": [
        {
          "output_type": "stream",
          "text": [
            "Step 0 \treward: -200.0\n",
            "Step 1000 \treward: -200.0\n",
            "Step 2000 \treward: -200.0\n",
            "Step 3000 \treward: -200.0\n",
            "Step 4000 \treward: -200.0\n",
            "Step 5000 \treward: -200.0\n",
            "Step 6000 \treward: -200.0\n",
            "Step 7000 \treward: -200.0\n",
            "Step 8000 \treward: -200.0\n",
            "Step 9000 \treward: -200.0\n",
            "Step 10000 \treward: -141.0\n",
            "Step 11000 \treward: -138.0\n",
            "Step 12000 \treward: -134.0\n",
            "Step 13000 \treward: -135.0\n",
            "Step 14000 \treward: -142.0\n",
            "Step 15000 \treward: -192.0\n",
            "Step 16000 \treward: -143.0\n",
            "Step 17000 \treward: -115.0\n",
            "Step 18000 \treward: -110.0\n",
            "Step 19000 \treward: -141.0\n",
            "Step 20000 \treward: -143.0\n",
            "Step 21000 \treward: -200.0\n",
            "Step 22000 \treward: -113.0\n",
            "Step 23000 \treward: -144.0\n",
            "Step 24000 \treward: -143.0\n",
            "Step 25000 \treward: -116.0\n",
            "Step 26000 \treward: -200.0\n",
            "Step 27000 \treward: -116.0\n",
            "Step 28000 \treward: -153.0\n",
            "Step 29000 \treward: -153.0\n",
            "Step 30000 \treward: -148.0\n",
            "Step 31000 \treward: -159.0\n",
            "Step 32000 \treward: -161.0\n",
            "Step 33000 \treward: -154.0\n",
            "Step 34000 \treward: -156.0\n",
            "Step 35000 \treward: -150.0\n",
            "Step 36000 \treward: -164.0\n",
            "Step 37000 \treward: -151.0\n",
            "Step 38000 \treward: -91.0\n",
            "Step 39000 \treward: -153.0\n",
            "Step 40000 \treward: -157.0\n",
            "Step 41000 \treward: -88.0\n",
            "Step 42000 \treward: -200.0\n",
            "Step 43000 \treward: -96.0\n",
            "Step 44000 \treward: -163.0\n",
            "Step 45000 \treward: -164.0\n",
            "Step 46000 \treward: -113.0\n",
            "Step 47000 \treward: -114.0\n",
            "Step 48000 \treward: -157.0\n",
            "Step 49000 \treward: -178.0\n",
            "Step 50000 \treward: -162.0\n",
            "Step 51000 \treward: -159.0\n",
            "Step 52000 \treward: -167.0\n",
            "Step 53000 \treward: -178.0\n",
            "Step 54000 \treward: -164.0\n",
            "Step 55000 \treward: -198.0\n",
            "Step 56000 \treward: -172.0\n",
            "Step 57000 \treward: -99.0\n",
            "Step 58000 \treward: -167.0\n",
            "Step 59000 \treward: -93.0\n",
            "Step 60000 \treward: -116.0\n",
            "Step 61000 \treward: -162.0\n",
            "Step 62000 \treward: -200.0\n",
            "Step 63000 \treward: -165.0\n",
            "Step 64000 \treward: -163.0\n",
            "Step 65000 \treward: -95.0\n",
            "Step 66000 \treward: -169.0\n",
            "Step 67000 \treward: -168.0\n",
            "Step 68000 \treward: -126.0\n",
            "Step 69000 \treward: -177.0\n",
            "Step 70000 \treward: -98.0\n",
            "Step 71000 \treward: -172.0\n",
            "Step 72000 \treward: -168.0\n",
            "Step 73000 \treward: -187.0\n",
            "Step 74000 \treward: -166.0\n",
            "Step 75000 \treward: -172.0\n",
            "Step 76000 \treward: -92.0\n",
            "Step 77000 \treward: -154.0\n",
            "Step 78000 \treward: -86.0\n",
            "Step 79000 \treward: -86.0\n",
            "Step 80000 \treward: -159.0\n",
            "Step 81000 \treward: -152.0\n",
            "Step 82000 \treward: -87.0\n",
            "Step 83000 \treward: -85.0\n",
            "Step 84000 \treward: -185.0\n",
            "Step 85000 \treward: -146.0\n",
            "Step 86000 \treward: -146.0\n",
            "Step 87000 \treward: -142.0\n",
            "Step 88000 \treward: -142.0\n",
            "Step 89000 \treward: -155.0\n",
            "Step 90000 \treward: -147.0\n",
            "Step 91000 \treward: -159.0\n",
            "Step 92000 \treward: -114.0\n",
            "Step 93000 \treward: -117.0\n",
            "Step 94000 \treward: -117.0\n",
            "Step 95000 \treward: -118.0\n",
            "Step 96000 \treward: -116.0\n",
            "Step 97000 \treward: -118.0\n",
            "Step 98000 \treward: -113.0\n",
            "Step 99000 \treward: -114.0\n",
            "Step 100000 \treward: -112.0\n",
            "Step 101000 \treward: -116.0\n",
            "Step 102000 \treward: -112.0\n",
            "Step 103000 \treward: -112.0\n",
            "Step 104000 \treward: -115.0\n",
            "Step 105000 \treward: -130.0\n",
            "Step 106000 \treward: -129.0\n",
            "Step 107000 \treward: -121.0\n",
            "Step 108000 \treward: -122.0\n",
            "Step 109000 \treward: -112.0\n",
            "Step 110000 \treward: -115.0\n"
          ],
          "name": "stdout"
        }
      ]
    },
    {
      "cell_type": "code",
      "metadata": {
        "colab": {
          "base_uri": "https://localhost:8080/"
        },
        "id": "OfHkI8VvokSZ",
        "outputId": "27574313-2369-4221-c2dc-b5a65ac7c6ef"
      },
      "source": [
        "test_policy(env, 100, dqn_policy)"
      ],
      "execution_count": null,
      "outputs": [
        {
          "output_type": "stream",
          "text": [
            "mean: -118.13 \n",
            "std: 20.087137675637113 \n",
            "min: -191.0 \n",
            "max: -109.0\n"
          ],
          "name": "stdout"
        }
      ]
    },
    {
      "cell_type": "code",
      "metadata": {
        "colab": {
          "base_uri": "https://localhost:8080/"
        },
        "id": "M-i4XkAloqUu",
        "outputId": "b670426e-9b76-4fd8-f433-65fd197ef825"
      },
      "source": [
        "dqn_policy.train(env, 15000)"
      ],
      "execution_count": null,
      "outputs": [
        {
          "output_type": "stream",
          "text": [
            "Step 111000 \treward: -109.0\n",
            "Step 112000 \treward: -113.0\n",
            "Step 113000 \treward: -110.0\n",
            "Step 114000 \treward: -111.0\n",
            "Step 115000 \treward: -112.0\n",
            "Step 116000 \treward: -120.0\n",
            "Step 117000 \treward: -200.0\n",
            "Step 118000 \treward: -110.0\n",
            "Step 119000 \treward: -109.0\n",
            "Step 120000 \treward: -138.0\n",
            "Step 121000 \treward: -111.0\n",
            "Step 122000 \treward: -111.0\n",
            "Step 123000 \treward: -110.0\n",
            "Step 124000 \treward: -111.0\n",
            "Step 125000 \treward: -109.0\n"
          ],
          "name": "stdout"
        }
      ]
    },
    {
      "cell_type": "code",
      "metadata": {
        "colab": {
          "base_uri": "https://localhost:8080/"
        },
        "id": "SgL88ztWsSwx",
        "outputId": "af0b0c8a-8308-478b-e8ab-8da493bccb5d"
      },
      "source": [
        "test_policy(env, 100, dqn_policy)"
      ],
      "execution_count": null,
      "outputs": [
        {
          "output_type": "stream",
          "text": [
            "mean: -116.19 \n",
            "std: 18.255243082468116 \n",
            "min: -184.0 \n",
            "max: -107.0\n"
          ],
          "name": "stdout"
        }
      ]
    },
    {
      "cell_type": "code",
      "metadata": {
        "id": "Og7c0T9dtlht"
      },
      "source": [
        "dqn_policy = DQN_policy(MC_DQN(), mem_size=2500)"
      ],
      "execution_count": null,
      "outputs": []
    },
    {
      "cell_type": "code",
      "metadata": {
        "colab": {
          "base_uri": "https://localhost:8080/"
        },
        "id": "G4PBCSbvu0M_",
        "outputId": "8e1426b3-b0c9-4dc2-f137-c4403a143c73"
      },
      "source": [
        "dqn_policy.train(env, 110001)"
      ],
      "execution_count": null,
      "outputs": [
        {
          "output_type": "stream",
          "text": [
            "Step 0 \treward: -200.0\n",
            "Step 1000 \treward: -200.0\n",
            "Step 2000 \treward: -200.0\n",
            "Step 3000 \treward: -136.0\n",
            "Step 4000 \treward: -136.0\n",
            "Step 5000 \treward: -200.0\n",
            "Step 6000 \treward: -141.0\n",
            "Step 7000 \treward: -135.0\n",
            "Step 8000 \treward: -136.0\n",
            "Step 9000 \treward: -135.0\n",
            "Step 10000 \treward: -108.0\n",
            "Step 11000 \treward: -108.0\n",
            "Step 12000 \treward: -137.0\n",
            "Step 13000 \treward: -141.0\n",
            "Step 14000 \treward: -144.0\n",
            "Step 15000 \treward: -138.0\n",
            "Step 16000 \treward: -141.0\n",
            "Step 17000 \treward: -141.0\n",
            "Step 18000 \treward: -109.0\n",
            "Step 19000 \treward: -141.0\n",
            "Step 20000 \treward: -137.0\n",
            "Step 21000 \treward: -135.0\n",
            "Step 22000 \treward: -135.0\n",
            "Step 23000 \treward: -87.0\n",
            "Step 24000 \treward: -140.0\n",
            "Step 25000 \treward: -159.0\n",
            "Step 26000 \treward: -148.0\n",
            "Step 27000 \treward: -147.0\n",
            "Step 28000 \treward: -153.0\n",
            "Step 29000 \treward: -163.0\n",
            "Step 30000 \treward: -200.0\n",
            "Step 31000 \treward: -141.0\n",
            "Step 32000 \treward: -140.0\n",
            "Step 33000 \treward: -143.0\n",
            "Step 34000 \treward: -108.0\n",
            "Step 35000 \treward: -165.0\n",
            "Step 36000 \treward: -107.0\n",
            "Step 37000 \treward: -137.0\n",
            "Step 38000 \treward: -200.0\n",
            "Step 39000 \treward: -200.0\n",
            "Step 40000 \treward: -108.0\n",
            "Step 41000 \treward: -108.0\n",
            "Step 42000 \treward: -137.0\n",
            "Step 43000 \treward: -150.0\n",
            "Step 44000 \treward: -200.0\n",
            "Step 45000 \treward: -200.0\n",
            "Step 46000 \treward: -200.0\n",
            "Step 47000 \treward: -116.0\n",
            "Step 48000 \treward: -150.0\n",
            "Step 49000 \treward: -94.0\n",
            "Step 50000 \treward: -84.0\n",
            "Step 51000 \treward: -111.0\n",
            "Step 52000 \treward: -114.0\n",
            "Step 53000 \treward: -165.0\n",
            "Step 54000 \treward: -200.0\n",
            "Step 55000 \treward: -160.0\n",
            "Step 56000 \treward: -153.0\n",
            "Step 57000 \treward: -93.0\n",
            "Step 58000 \treward: -166.0\n",
            "Step 59000 \treward: -171.0\n",
            "Step 60000 \treward: -128.0\n",
            "Step 61000 \treward: -98.0\n",
            "Step 62000 \treward: -158.0\n",
            "Step 63000 \treward: -168.0\n",
            "Step 64000 \treward: -199.0\n",
            "Step 65000 \treward: -170.0\n",
            "Step 66000 \treward: -162.0\n",
            "Step 67000 \treward: -169.0\n",
            "Step 68000 \treward: -122.0\n",
            "Step 69000 \treward: -162.0\n",
            "Step 70000 \treward: -162.0\n",
            "Step 71000 \treward: -116.0\n",
            "Step 72000 \treward: -126.0\n",
            "Step 73000 \treward: -115.0\n",
            "Step 74000 \treward: -164.0\n",
            "Step 75000 \treward: -200.0\n",
            "Step 76000 \treward: -134.0\n",
            "Step 77000 \treward: -154.0\n",
            "Step 78000 \treward: -87.0\n",
            "Step 79000 \treward: -85.0\n",
            "Step 80000 \treward: -87.0\n",
            "Step 81000 \treward: -180.0\n",
            "Step 82000 \treward: -153.0\n",
            "Step 83000 \treward: -152.0\n",
            "Step 84000 \treward: -86.0\n",
            "Step 85000 \treward: -157.0\n",
            "Step 86000 \treward: -165.0\n",
            "Step 87000 \treward: -146.0\n",
            "Step 88000 \treward: -145.0\n",
            "Step 89000 \treward: -155.0\n",
            "Step 90000 \treward: -91.0\n",
            "Step 91000 \treward: -155.0\n",
            "Step 92000 \treward: -87.0\n",
            "Step 93000 \treward: -115.0\n",
            "Step 94000 \treward: -86.0\n",
            "Step 95000 \treward: -115.0\n",
            "Step 96000 \treward: -95.0\n",
            "Step 97000 \treward: -200.0\n",
            "Step 98000 \treward: -111.0\n",
            "Step 99000 \treward: -149.0\n",
            "Step 100000 \treward: -119.0\n",
            "Step 101000 \treward: -159.0\n",
            "Step 102000 \treward: -109.0\n",
            "Step 103000 \treward: -112.0\n",
            "Step 104000 \treward: -112.0\n",
            "Step 105000 \treward: -116.0\n",
            "Step 106000 \treward: -112.0\n",
            "Step 107000 \treward: -113.0\n",
            "Step 108000 \treward: -111.0\n",
            "Step 109000 \treward: -111.0\n",
            "Step 110000 \treward: -111.0\n"
          ],
          "name": "stdout"
        }
      ]
    },
    {
      "cell_type": "markdown",
      "metadata": {
        "id": "wg_PwNo24sUv"
      },
      "source": [
        "Almost solved. Some hyper-parameters tuning should help to reach mean score $\\ge -110$"
      ]
    },
    {
      "cell_type": "code",
      "metadata": {
        "colab": {
          "base_uri": "https://localhost:8080/"
        },
        "id": "GjrVuptBu7yT",
        "outputId": "1c149f33-3941-4710-bfdf-3313286c787e"
      },
      "source": [
        "test_policy(env, 100, dqn_policy)"
      ],
      "execution_count": null,
      "outputs": [
        {
          "output_type": "stream",
          "text": [
            "mean: -112.41 \n",
            "std: 1.749828563031247 \n",
            "min: -117.0 \n",
            "max: -111.0\n"
          ],
          "name": "stdout"
        }
      ]
    },
    {
      "cell_type": "code",
      "metadata": {
        "id": "o7MhaEiUzQZh"
      },
      "source": [
        "dqn_policy = DQN_policy(MC_DQN(50), mem_size=2500)"
      ],
      "execution_count": null,
      "outputs": []
    },
    {
      "cell_type": "code",
      "metadata": {
        "colab": {
          "base_uri": "https://localhost:8080/"
        },
        "id": "EN9emszDzaLG",
        "outputId": "4644ec6a-45d4-440c-b4ce-e2efa8627a94"
      },
      "source": [
        "dqn_policy.train(env, 110001)"
      ],
      "execution_count": null,
      "outputs": [
        {
          "output_type": "stream",
          "text": [
            "Step 0 \treward: -200.0\n",
            "Step 1000 \treward: -200.0\n",
            "Step 2000 \treward: -200.0\n",
            "Step 3000 \treward: -181.0\n",
            "Step 4000 \treward: -167.0\n",
            "Step 5000 \treward: -138.0\n",
            "Step 6000 \treward: -109.0\n",
            "Step 7000 \treward: -137.0\n",
            "Step 8000 \treward: -107.0\n",
            "Step 9000 \treward: -176.0\n",
            "Step 10000 \treward: -142.0\n",
            "Step 11000 \treward: -142.0\n",
            "Step 12000 \treward: -153.0\n",
            "Step 13000 \treward: -145.0\n",
            "Step 14000 \treward: -146.0\n",
            "Step 15000 \treward: -145.0\n",
            "Step 16000 \treward: -144.0\n",
            "Step 17000 \treward: -158.0\n",
            "Step 18000 \treward: -147.0\n",
            "Step 19000 \treward: -83.0\n",
            "Step 20000 \treward: -160.0\n",
            "Step 21000 \treward: -139.0\n",
            "Step 22000 \treward: -143.0\n",
            "Step 23000 \treward: -138.0\n",
            "Step 24000 \treward: -140.0\n",
            "Step 25000 \treward: -110.0\n",
            "Step 26000 \treward: -108.0\n",
            "Step 27000 \treward: -140.0\n",
            "Step 28000 \treward: -109.0\n",
            "Step 29000 \treward: -107.0\n",
            "Step 30000 \treward: -132.0\n",
            "Step 31000 \treward: -132.0\n",
            "Step 32000 \treward: -136.0\n",
            "Step 33000 \treward: -109.0\n",
            "Step 34000 \treward: -142.0\n",
            "Step 35000 \treward: -114.0\n",
            "Step 36000 \treward: -111.0\n",
            "Step 37000 \treward: -108.0\n",
            "Step 38000 \treward: -136.0\n",
            "Step 39000 \treward: -149.0\n",
            "Step 40000 \treward: -144.0\n",
            "Step 41000 \treward: -150.0\n",
            "Step 42000 \treward: -153.0\n",
            "Step 43000 \treward: -88.0\n",
            "Step 44000 \treward: -161.0\n",
            "Step 45000 \treward: -154.0\n",
            "Step 46000 \treward: -85.0\n",
            "Step 47000 \treward: -95.0\n",
            "Step 48000 \treward: -125.0\n",
            "Step 49000 \treward: -200.0\n",
            "Step 50000 \treward: -138.0\n",
            "Step 51000 \treward: -135.0\n",
            "Step 52000 \treward: -126.0\n",
            "Step 53000 \treward: -135.0\n",
            "Step 54000 \treward: -200.0\n",
            "Step 55000 \treward: -158.0\n",
            "Step 56000 \treward: -126.0\n",
            "Step 57000 \treward: -200.0\n",
            "Step 58000 \treward: -146.0\n",
            "Step 59000 \treward: -181.0\n",
            "Step 60000 \treward: -167.0\n",
            "Step 61000 \treward: -171.0\n",
            "Step 62000 \treward: -176.0\n",
            "Step 63000 \treward: -132.0\n",
            "Step 64000 \treward: -125.0\n",
            "Step 65000 \treward: -156.0\n",
            "Step 66000 \treward: -169.0\n",
            "Step 67000 \treward: -163.0\n",
            "Step 68000 \treward: -200.0\n",
            "Step 69000 \treward: -131.0\n",
            "Step 70000 \treward: -161.0\n",
            "Step 71000 \treward: -86.0\n",
            "Step 72000 \treward: -85.0\n",
            "Step 73000 \treward: -87.0\n",
            "Step 74000 \treward: -91.0\n",
            "Step 75000 \treward: -89.0\n",
            "Step 76000 \treward: -158.0\n",
            "Step 77000 \treward: -200.0\n",
            "Step 78000 \treward: -90.0\n",
            "Step 79000 \treward: -149.0\n",
            "Step 80000 \treward: -86.0\n",
            "Step 81000 \treward: -92.0\n",
            "Step 82000 \treward: -122.0\n",
            "Step 83000 \treward: -117.0\n",
            "Step 84000 \treward: -117.0\n",
            "Step 85000 \treward: -117.0\n",
            "Step 86000 \treward: -114.0\n",
            "Step 87000 \treward: -112.0\n",
            "Step 88000 \treward: -113.0\n",
            "Step 89000 \treward: -115.0\n",
            "Step 90000 \treward: -115.0\n",
            "Step 91000 \treward: -113.0\n",
            "Step 92000 \treward: -160.0\n",
            "Step 93000 \treward: -110.0\n",
            "Step 94000 \treward: -112.0\n",
            "Step 95000 \treward: -111.0\n",
            "Step 96000 \treward: -109.0\n",
            "Step 97000 \treward: -122.0\n",
            "Step 98000 \treward: -110.0\n",
            "Step 99000 \treward: -111.0\n",
            "Step 100000 \treward: -113.0\n",
            "Step 101000 \treward: -111.0\n",
            "Step 102000 \treward: -107.0\n",
            "Step 103000 \treward: -159.0\n",
            "Step 104000 \treward: -107.0\n",
            "Step 105000 \treward: -112.0\n",
            "Step 106000 \treward: -110.0\n",
            "Step 107000 \treward: -178.0\n",
            "Step 108000 \treward: -111.0\n",
            "Step 109000 \treward: -200.0\n",
            "Step 110000 \treward: -143.0\n"
          ],
          "name": "stdout"
        }
      ]
    },
    {
      "cell_type": "code",
      "metadata": {
        "colab": {
          "base_uri": "https://localhost:8080/"
        },
        "id": "vFuqxMxxzbwl",
        "outputId": "e8ad0e18-1170-4e35-db3f-bec80f2b2db6"
      },
      "source": [
        "test_policy(env, 100, dqn_policy)"
      ],
      "execution_count": null,
      "outputs": [
        {
          "output_type": "stream",
          "text": [
            "mean: -120.26 \n",
            "std: 22.97939076651076 \n",
            "min: -200.0 \n",
            "max: -84.0\n"
          ],
          "name": "stdout"
        }
      ]
    },
    {
      "cell_type": "markdown",
      "metadata": {
        "id": "f0_Kbd2ESA1g"
      },
      "source": [
        "### MountainCar-v0 solved"
      ]
    },
    {
      "cell_type": "code",
      "metadata": {
        "id": "ST6N83SjPSZ9"
      },
      "source": [
        "dqn_policy = DQN_policy(MC_DQN(use_norm=True), mem_size=2500)"
      ],
      "execution_count": null,
      "outputs": []
    },
    {
      "cell_type": "code",
      "metadata": {
        "colab": {
          "base_uri": "https://localhost:8080/"
        },
        "id": "r3mfqjXLPWRu",
        "outputId": "f681a81a-3236-4c5b-c59e-61142020fa90"
      },
      "source": [
        "dqn_policy.train(env, 110001)"
      ],
      "execution_count": null,
      "outputs": [
        {
          "output_type": "stream",
          "text": [
            "Step 0 \treward: -200.0\n",
            "Step 1000 \treward: -200.0\n",
            "Step 2000 \treward: -200.0\n",
            "Step 3000 \treward: -165.0\n",
            "Step 4000 \treward: -141.0\n",
            "Step 5000 \treward: -169.0\n",
            "Step 6000 \treward: -148.0\n",
            "Step 7000 \treward: -110.0\n",
            "Step 8000 \treward: -141.0\n",
            "Step 9000 \treward: -140.0\n",
            "Step 10000 \treward: -172.0\n",
            "Step 11000 \treward: -131.0\n",
            "Step 12000 \treward: -137.0\n",
            "Step 13000 \treward: -110.0\n",
            "Step 14000 \treward: -143.0\n",
            "Step 15000 \treward: -140.0\n",
            "Step 16000 \treward: -141.0\n",
            "Step 17000 \treward: -183.0\n",
            "Step 18000 \treward: -200.0\n",
            "Step 19000 \treward: -136.0\n",
            "Step 20000 \treward: -192.0\n",
            "Step 21000 \treward: -200.0\n",
            "Step 22000 \treward: -200.0\n",
            "Step 23000 \treward: -200.0\n",
            "Step 24000 \treward: -200.0\n",
            "Step 25000 \treward: -188.0\n",
            "Step 26000 \treward: -200.0\n",
            "Step 27000 \treward: -200.0\n",
            "Step 28000 \treward: -154.0\n",
            "Step 29000 \treward: -151.0\n",
            "Step 30000 \treward: -146.0\n",
            "Step 31000 \treward: -152.0\n",
            "Step 32000 \treward: -113.0\n",
            "Step 33000 \treward: -165.0\n",
            "Step 34000 \treward: -200.0\n",
            "Step 35000 \treward: -162.0\n",
            "Step 36000 \treward: -166.0\n",
            "Step 37000 \treward: -164.0\n",
            "Step 38000 \treward: -133.0\n",
            "Step 39000 \treward: -94.0\n",
            "Step 40000 \treward: -122.0\n",
            "Step 41000 \treward: -166.0\n",
            "Step 42000 \treward: -129.0\n",
            "Step 43000 \treward: -165.0\n",
            "Step 44000 \treward: -94.0\n",
            "Step 45000 \treward: -194.0\n",
            "Step 46000 \treward: -95.0\n",
            "Step 47000 \treward: -178.0\n",
            "Step 48000 \treward: -116.0\n",
            "Step 49000 \treward: -174.0\n",
            "Step 50000 \treward: -159.0\n",
            "Step 51000 \treward: -107.0\n",
            "Step 52000 \treward: -108.0\n",
            "Step 53000 \treward: -168.0\n",
            "Step 54000 \treward: -88.0\n",
            "Step 55000 \treward: -143.0\n",
            "Step 56000 \treward: -194.0\n",
            "Step 57000 \treward: -87.0\n",
            "Step 58000 \treward: -135.0\n",
            "Step 59000 \treward: -84.0\n",
            "Step 60000 \treward: -119.0\n",
            "Step 61000 \treward: -84.0\n",
            "Step 62000 \treward: -147.0\n",
            "Step 63000 \treward: -139.0\n",
            "Step 64000 \treward: -131.0\n",
            "Step 65000 \treward: -90.0\n",
            "Step 66000 \treward: -131.0\n",
            "Step 67000 \treward: -132.0\n",
            "Step 68000 \treward: -93.0\n",
            "Step 69000 \treward: -136.0\n",
            "Step 70000 \treward: -196.0\n",
            "Step 71000 \treward: -154.0\n",
            "Step 72000 \treward: -84.0\n",
            "Step 73000 \treward: -141.0\n",
            "Step 74000 \treward: -109.0\n",
            "Step 75000 \treward: -112.0\n",
            "Step 76000 \treward: -200.0\n",
            "Step 77000 \treward: -200.0\n",
            "Step 78000 \treward: -90.0\n",
            "Step 79000 \treward: -122.0\n",
            "Step 80000 \treward: -116.0\n",
            "Step 81000 \treward: -120.0\n",
            "Step 82000 \treward: -126.0\n",
            "Step 83000 \treward: -119.0\n",
            "Step 84000 \treward: -200.0\n",
            "Step 85000 \treward: -200.0\n",
            "Step 86000 \treward: -122.0\n",
            "Step 87000 \treward: -150.0\n",
            "Step 88000 \treward: -129.0\n",
            "Step 89000 \treward: -127.0\n",
            "Step 90000 \treward: -121.0\n",
            "Step 91000 \treward: -117.0\n",
            "Step 92000 \treward: -125.0\n",
            "Step 93000 \treward: -121.0\n",
            "Step 94000 \treward: -168.0\n",
            "Step 95000 \treward: -86.0\n",
            "Step 96000 \treward: -93.0\n",
            "Step 97000 \treward: -170.0\n",
            "Step 98000 \treward: -111.0\n",
            "Step 99000 \treward: -170.0\n",
            "Step 100000 \treward: -89.0\n",
            "Step 101000 \treward: -150.0\n",
            "Step 102000 \treward: -149.0\n",
            "Step 103000 \treward: -176.0\n",
            "Step 104000 \treward: -151.0\n",
            "Step 105000 \treward: -152.0\n",
            "Step 106000 \treward: -161.0\n",
            "Step 107000 \treward: -156.0\n",
            "Step 108000 \treward: -85.0\n",
            "Step 109000 \treward: -149.0\n",
            "Step 110000 \treward: -154.0\n"
          ],
          "name": "stdout"
        }
      ]
    },
    {
      "cell_type": "code",
      "metadata": {
        "colab": {
          "base_uri": "https://localhost:8080/"
        },
        "id": "ExNUaTiOPWT1",
        "outputId": "f727a1ca-7aa7-449a-a206-692f85b4fff4"
      },
      "source": [
        "test_policy(env, 100, dqn_policy)"
      ],
      "execution_count": null,
      "outputs": [
        {
          "output_type": "stream",
          "text": [
            "mean: -119.54 \n",
            "std: 33.30478043764889 \n",
            "min: -200.0 \n",
            "max: -84.0\n"
          ],
          "name": "stdout"
        }
      ]
    },
    {
      "cell_type": "code",
      "metadata": {
        "colab": {
          "base_uri": "https://localhost:8080/"
        },
        "id": "TpE1jOm7RBtq",
        "outputId": "e397b46d-69ca-42e0-e408-6befd2802299"
      },
      "source": [
        "dqn_policy.train(env, 20001)"
      ],
      "execution_count": null,
      "outputs": [
        {
          "output_type": "stream",
          "text": [
            "Step 111000 \treward: -159.0\n",
            "Step 112000 \treward: -84.0\n",
            "Step 113000 \treward: -144.0\n",
            "Step 114000 \treward: -87.0\n",
            "Step 115000 \treward: -160.0\n",
            "Step 116000 \treward: -92.0\n",
            "Step 117000 \treward: -92.0\n",
            "Step 118000 \treward: -145.0\n",
            "Step 119000 \treward: -85.0\n",
            "Step 120000 \treward: -101.0\n",
            "Step 121000 \treward: -85.0\n",
            "Step 122000 \treward: -150.0\n",
            "Step 123000 \treward: -189.0\n",
            "Step 124000 \treward: -147.0\n",
            "Step 125000 \treward: -159.0\n",
            "Step 126000 \treward: -148.0\n",
            "Step 127000 \treward: -180.0\n",
            "Step 128000 \treward: -113.0\n",
            "Step 129000 \treward: -153.0\n",
            "Step 130000 \treward: -156.0\n"
          ],
          "name": "stdout"
        }
      ]
    },
    {
      "cell_type": "code",
      "metadata": {
        "colab": {
          "base_uri": "https://localhost:8080/"
        },
        "id": "beNzjqfIRGL7",
        "outputId": "b639f8bb-4bbc-4217-cdab-f6084d0cfa71"
      },
      "source": [
        "dqn_policy.train(env, 30001)"
      ],
      "execution_count": null,
      "outputs": [
        {
          "output_type": "stream",
          "text": [
            "Step 131000 \treward: -95.0\n",
            "Step 132000 \treward: -103.0\n",
            "Step 133000 \treward: -166.0\n",
            "Step 134000 \treward: -105.0\n",
            "Step 135000 \treward: -89.0\n",
            "Step 136000 \treward: -109.0\n",
            "Step 137000 \treward: -200.0\n",
            "Step 138000 \treward: -110.0\n",
            "Step 139000 \treward: -121.0\n",
            "Step 140000 \treward: -110.0\n",
            "Step 141000 \treward: -109.0\n",
            "Step 142000 \treward: -114.0\n",
            "Step 143000 \treward: -200.0\n",
            "Step 144000 \treward: -113.0\n",
            "Step 145000 \treward: -113.0\n",
            "Step 146000 \treward: -119.0\n",
            "Step 147000 \treward: -112.0\n",
            "Step 148000 \treward: -112.0\n",
            "Step 149000 \treward: -118.0\n",
            "Step 150000 \treward: -114.0\n",
            "Step 151000 \treward: -117.0\n",
            "Step 152000 \treward: -118.0\n",
            "Step 153000 \treward: -118.0\n",
            "Step 154000 \treward: -85.0\n",
            "Step 155000 \treward: -113.0\n",
            "Step 156000 \treward: -113.0\n",
            "Step 157000 \treward: -111.0\n",
            "Step 158000 \treward: -111.0\n",
            "Step 159000 \treward: -84.0\n",
            "Step 160000 \treward: -107.0\n"
          ],
          "name": "stdout"
        }
      ]
    },
    {
      "cell_type": "code",
      "metadata": {
        "colab": {
          "base_uri": "https://localhost:8080/"
        },
        "id": "lxSA50lFRfsV",
        "outputId": "b3ddc9c9-11fa-41e4-fa54-6ff563723d60"
      },
      "source": [
        "test_policy(env, 100, dqn_policy)"
      ],
      "execution_count": null,
      "outputs": [
        {
          "output_type": "stream",
          "text": [
            "mean: -101.9 \n",
            "std: 8.892131353055914 \n",
            "min: -110.0 \n",
            "max: -83.0\n"
          ],
          "name": "stdout"
        }
      ]
    },
    {
      "cell_type": "code",
      "metadata": {
        "colab": {
          "base_uri": "https://localhost:8080/"
        },
        "id": "EV82tAZ7VOev",
        "outputId": "f81812bd-5445-4d41-c6ce-bc361b92484c"
      },
      "source": [
        "dqn_policy.train(env, 10001)"
      ],
      "execution_count": null,
      "outputs": [
        {
          "output_type": "stream",
          "text": [
            "Step 161000 \treward: -110.0\n",
            "Step 162000 \treward: -107.0\n",
            "Step 163000 \treward: -86.0\n",
            "Step 164000 \treward: -108.0\n",
            "Step 165000 \treward: -98.0\n",
            "Step 166000 \treward: -109.0\n",
            "Step 167000 \treward: -108.0\n",
            "Step 168000 \treward: -107.0\n",
            "Step 169000 \treward: -107.0\n",
            "Step 170000 \treward: -89.0\n"
          ],
          "name": "stdout"
        }
      ]
    },
    {
      "cell_type": "code",
      "metadata": {
        "colab": {
          "base_uri": "https://localhost:8080/"
        },
        "id": "yGtDE345VYIZ",
        "outputId": "a341d770-e8e3-4f07-ae8c-bc1c1592d72a"
      },
      "source": [
        "test_policy(env, 100, dqn_policy)"
      ],
      "execution_count": null,
      "outputs": [
        {
          "output_type": "stream",
          "text": [
            "mean: -102.01 \n",
            "std: 7.431682178349663 \n",
            "min: -108.0 \n",
            "max: -84.0\n"
          ],
          "name": "stdout"
        }
      ]
    },
    {
      "cell_type": "code",
      "metadata": {
        "colab": {
          "base_uri": "https://localhost:8080/",
          "height": 458
        },
        "id": "6M6fd4JmS7sJ",
        "outputId": "9f969700-167d-44bd-95d5-38c835f237ee"
      },
      "source": [
        "plt.figure(figsize=(15,7))\r\n",
        "plt.title('Reward size after target network update')\r\n",
        "plt.xlabel('Thousand iterations')\r\n",
        "plt.ylabel('Reward size')\r\n",
        "plt.grid()\r\n",
        "plt.plot(np.arange(0, len(dqn_policy.log_rewards)), dqn_policy.log_rewards,\r\n",
        "         label='Agent reward')\r\n",
        "plt.plot(np.arange(0, len(dqn_policy.log_rewards)), \r\n",
        "         [-110] * len(dqn_policy.log_rewards), label='Problem is solved')\r\n",
        "plt.legend()\r\n",
        "plt.show()"
      ],
      "execution_count": null,
      "outputs": [
        {
          "output_type": "display_data",
          "data": {
            "image/png": "[encoded data removed]",
            "text/plain": [
              "<Figure size 1080x504 with 1 Axes>"
            ]
          },
          "metadata": {
            "tags": [],
            "needs_background": "light"
          }
        }
      ]
    },
    {
      "cell_type": "markdown",
      "metadata": {
        "id": "vnt2RbZs6WQQ"
      },
      "source": [
        "## Actor-Critic"
      ]
    },
    {
      "cell_type": "code",
      "metadata": {
        "id": "YHuzHFsd4bdl"
      },
      "source": [
        "env2 = gym.make(\"MountainCarContinuous-v0\")"
      ],
      "execution_count": null,
      "outputs": []
    },
    {
      "cell_type": "code",
      "metadata": {
        "colab": {
          "base_uri": "https://localhost:8080/"
        },
        "id": "kKyFxsqx7dA4",
        "outputId": "49c27293-2021-4263-ce73-d67640a5f55a"
      },
      "source": [
        "env2.action_space"
      ],
      "execution_count": null,
      "outputs": [
        {
          "output_type": "execute_result",
          "data": {
            "text/plain": [
              "Box(-1.0, 1.0, (1,), float32)"
            ]
          },
          "metadata": {
            "tags": []
          },
          "execution_count": 16
        }
      ]
    },
    {
      "cell_type": "code",
      "metadata": {
        "colab": {
          "base_uri": "https://localhost:8080/"
        },
        "id": "2vNaZXz-OM_M",
        "outputId": "3ec345c9-ed50-4108-d5c9-fc5da1eb439b"
      },
      "source": [
        "env2.action_space.shape, env2.observation_space.shape"
      ],
      "execution_count": null,
      "outputs": [
        {
          "output_type": "execute_result",
          "data": {
            "text/plain": [
              "((1,), (2,))"
            ]
          },
          "metadata": {
            "tags": []
          },
          "execution_count": 23
        }
      ]
    },
    {
      "cell_type": "code",
      "metadata": {
        "id": "mQBgyV8W8klE"
      },
      "source": [
        "def simple_continious_policy(obs):\r\n",
        "  velocity = obs[1]\r\n",
        "  return [-1.0] if velocity < 0 else [1.0]"
      ],
      "execution_count": null,
      "outputs": []
    },
    {
      "cell_type": "code",
      "metadata": {
        "colab": {
          "base_uri": "https://localhost:8080/"
        },
        "id": "PBVho3uz8cLJ",
        "outputId": "af297dff-0f0d-4907-bca9-8f331d73ebfc"
      },
      "source": [
        "test_policy(env2, 100, simple_continious_policy)"
      ],
      "execution_count": null,
      "outputs": [
        {
          "output_type": "stream",
          "text": [
            "mean: 89.35300000000002 \n",
            "std: 0.13375724279455087 \n",
            "min: 88.90000000000003 \n",
            "max: 89.50000000000003\n"
          ],
          "name": "stdout"
        }
      ]
    },
    {
      "cell_type": "code",
      "metadata": {
        "id": "FJANlDsa7Gdv"
      },
      "source": [
        "GAMMA = 0.99 # discount factor\r\n",
        "TAU = 0.05 # merging coef\r\n",
        "ACTOR_LR = 1e-5\r\n",
        "CRITIC_LR = 1e-5\r\n",
        "\r\n",
        "BATCH_SIZE = 256"
      ],
      "execution_count": null,
      "outputs": []
    },
    {
      "cell_type": "code",
      "metadata": {
        "id": "GosLkGPU7sRd"
      },
      "source": [
        "class ActorNN(nn.Module):\r\n",
        "  def __init__(self, hidden_dim=256):\r\n",
        "    super().__init__()\r\n",
        "    \r\n",
        "    self.net = nn.Sequential(\r\n",
        "        nn.Linear(2, hidden_dim),\r\n",
        "        nn.LayerNorm(hidden_dim),\r\n",
        "        nn.ReLU(),\r\n",
        "        nn.Linear(hidden_dim, hidden_dim),\r\n",
        "        nn.LayerNorm(hidden_dim),\r\n",
        "        nn.ReLU(),\r\n",
        "        nn.Linear(hidden_dim, 1),\r\n",
        "        nn.Tanh()\r\n",
        "    )\r\n",
        "\r\n",
        "\r\n",
        "  def forward(self, X):\r\n",
        "    return self.net(X)\r\n",
        "\r\n",
        "  \r\n",
        "  def get_action(self, obs):\r\n",
        "    return self.forward(torch.Tensor(obs)).detach().numpy()\r\n",
        "\r\n",
        "\r\n",
        "class CriticNN(nn.Module):\r\n",
        "  def __init__(self, hidden_dim=256):\r\n",
        "    super().__init__()\r\n",
        "\r\n",
        "    self.obs_net = nn.Sequential(\r\n",
        "        nn.Linear(2, hidden_dim),\r\n",
        "        nn.LayerNorm(hidden_dim),\r\n",
        "        nn.ReLU(),\r\n",
        "    )\r\n",
        "    self.net = nn.Sequential(\r\n",
        "        nn.Linear(hidden_dim + 1, hidden_dim),\r\n",
        "        nn.LayerNorm(hidden_dim),\r\n",
        "        nn.ReLU(),\r\n",
        "        nn.Linear(hidden_dim, 1),\r\n",
        "    )\r\n",
        "\r\n",
        "  def forward(self, obs, action):\r\n",
        "    obs_v = self.obs_net(obs)\r\n",
        "    return self.net(torch.cat([obs_v, action], dim=-1))"
      ],
      "execution_count": null,
      "outputs": []
    },
    {
      "cell_type": "code",
      "metadata": {
        "id": "alWUkaH9QTj3"
      },
      "source": [
        "class OUNoise():\r\n",
        "    def __init__(self):\r\n",
        "        self.theta = 0.15\r\n",
        "        self.sigma = 0.6\r\n",
        "        self.action_dim = 1\r\n",
        "        self.low = -1\r\n",
        "        self.high = 1\r\n",
        "        self.eps_max = 1.0\r\n",
        "        self.eps_min = 0.1\r\n",
        "        self.eps = self.eps_max\r\n",
        "        self.eps_decay = (self.eps_max - self.eps_min) / 40\r\n",
        "        self.state = np.zeros(self.action_dim)\r\n",
        "\r\n",
        "\r\n",
        "    def eps_step(self):\r\n",
        "        self.eps -= self.eps_decay\r\n",
        "        self.eps = max(self.eps, self.eps_min)\r\n",
        "\r\n",
        "\r\n",
        "    def __call__(self, action):\r\n",
        "        self.state += - self.theta * self.state + self.sigma * np.random.randn(self.action_dim)\r\n",
        "        noise = self.eps * self.state\r\n",
        "        if isinstance(action, torch.Tensor):\r\n",
        "            return torch.clamp(action + torch.Tensor(noise).float(), self.low, self.high)\r\n",
        "        else:\r\n",
        "            return np.clip(action + noise, self.low, self.high)"
      ],
      "execution_count": null,
      "outputs": []
    },
    {
      "cell_type": "code",
      "metadata": {
        "id": "gsyKq1Zya_Ne"
      },
      "source": [
        "class AC_policy():\r\n",
        "  def __init__(self, mem_size=50000):\r\n",
        "    self.actor = ActorNN()\r\n",
        "    self.target_actor = deepcopy(self.actor)\r\n",
        "    self.target_actor.eval()\r\n",
        "\r\n",
        "    self.critic = CriticNN()\r\n",
        "    self.target_critic = deepcopy(self.critic)\r\n",
        "    self.target_critic.eval()\r\n",
        "\r\n",
        "    self.actor_optimizer = torch.optim.Adam(self.actor.parameters(), lr=ACTOR_LR)\r\n",
        "    self.critic_optimizer = torch.optim.Adam(self.critic.parameters(), lr=CRITIC_LR)\r\n",
        "\r\n",
        "    self.noise = OUNoise()\r\n",
        "    self.mem = Memmory(mem_size)\r\n",
        "\r\n",
        "    self.log_rewards = []\r\n",
        "\r\n",
        "\r\n",
        "  def get_action(self, obs, net):\r\n",
        "    return net.get_action(torch.Tensor(obs)) \r\n",
        "\r\n",
        "\r\n",
        "  def __call__(self, obs):\r\n",
        "    return self.get_action(obs, self.target_actor)\r\n",
        "\r\n",
        "\r\n",
        "  def update(self):\r\n",
        "      obs, actions, rewards, new_obs, done = self.mem.sample(BATCH_SIZE)\r\n",
        "      \r\n",
        "      obs = torch.FloatTensor(obs)\r\n",
        "      actions = torch.tensor(actions)\r\n",
        "      rewards = torch.FloatTensor(rewards)\r\n",
        "      new_obs = torch.FloatTensor(new_obs)\r\n",
        "      done = torch.tensor(done)\r\n",
        "\r\n",
        "      target_q = None\r\n",
        "      with torch.no_grad():\r\n",
        "        target_q = self.target_critic(new_obs, self.target_actor(new_obs))\r\n",
        "        target_q[done] = 0\r\n",
        "      target_q = (rewards.unsqueeze(1) + GAMMA * target_q)\r\n",
        "      pred_q =  self.critic(obs, actions.float())\r\n",
        "      \r\n",
        "      critic_loss = F.mse_loss(target_q, pred_q)\r\n",
        "      self.critic_optimizer.zero_grad()\r\n",
        "      critic_loss.backward()\r\n",
        "      self.critic_optimizer.step()\r\n",
        "      \r\n",
        "      actor_loss = self.critic(obs, self.actor(obs)).mean().mul(-1)\r\n",
        "      self.actor_optimizer.zero_grad()\r\n",
        "      actor_loss.backward()\r\n",
        "      self.actor_optimizer.step()\r\n",
        "\r\n",
        "      for target_param, param in zip(self.target_critic.parameters(), self.critic.parameters()):\r\n",
        "        target_param.data.copy_(target_param.data * (1.0 - TAU) + param.data * TAU)\r\n",
        "      for target_param, param in zip(self.target_actor.parameters(), self.actor.parameters()):\r\n",
        "        target_param.data.copy_(target_param.data * (1.0 - TAU) + param.data * TAU)\r\n",
        "\r\n",
        "\r\n",
        "  def train(self, evniroment, episodes=100, max_iters=500, \r\n",
        "            modify_reward=False, reward_modif_scale=300):\r\n",
        "    for e in range(episodes): \r\n",
        "      obs = evniroment.reset()\r\n",
        "      for i in range(max_iters):   \r\n",
        "        action = self.get_action(obs, self.actor)\r\n",
        "        action = self.noise(action)\r\n",
        "\r\n",
        "        new_obs, reward, done, _ = evniroment.step(action)\r\n",
        "        if modify_reward:\r\n",
        "          reward += reward_modif_scale * (GAMMA * abs(new_obs[1]) - abs(obs[1]))\r\n",
        "        self.mem.add((obs, action, reward, new_obs, done))\r\n",
        "\r\n",
        "        #print('Upd')\r\n",
        "        if len(self.mem) >= BATCH_SIZE:\r\n",
        "          self.update()\r\n",
        "        obs = new_obs\r\n",
        "        if done:\r\n",
        "          break\r\n",
        "      \r\n",
        "      obs = evniroment.reset()\r\n",
        "      done = False\r\n",
        "      obtained_reward = 0\r\n",
        "\r\n",
        "      while not done:\r\n",
        "        action = self.get_action(obs, self.target_actor)\r\n",
        "        obs, reward, done, _ = evniroment.step(action)\r\n",
        "        obtained_reward += reward\r\n",
        "\r\n",
        "      self.log_rewards.append(obtained_reward)\r\n",
        "      print('Episode', e, '\\treward:', obtained_reward)\r\n",
        "      self.noise.eps_step()"
      ],
      "execution_count": null,
      "outputs": []
    },
    {
      "cell_type": "markdown",
      "metadata": {
        "id": "TIZzpIM15nP8"
      },
      "source": [
        "### MountainCarContinuous-v0 solved"
      ]
    },
    {
      "cell_type": "code",
      "metadata": {
        "id": "bGoHH6VAsNi-"
      },
      "source": [
        "ac_policy = AC_policy()"
      ],
      "execution_count": null,
      "outputs": []
    },
    {
      "cell_type": "code",
      "metadata": {
        "colab": {
          "base_uri": "https://localhost:8080/",
          "height": 1000
        },
        "id": "Zr2xeftIsRKZ",
        "outputId": "fad35348-b11e-4dee-d86a-0ff55c9ae4f1"
      },
      "source": [
        "ac_policy.train(env2, modify_reward=False)"
      ],
      "execution_count": null,
      "outputs": [
        {
          "output_type": "stream",
          "text": [
            "Episode 0 \treward: -0.9297904239524487\n",
            "Episode 1 \treward: -0.029559641232551205\n",
            "Episode 2 \treward: -0.06537297998924965\n",
            "Episode 3 \treward: -33.94012507959498\n",
            "Episode 4 \treward: -85.99037711713542\n",
            "Episode 5 \treward: -97.81242257577921\n",
            "Episode 6 \treward: -89.76076284305566\n",
            "Episode 7 \treward: -92.6929498510757\n",
            "Episode 8 \treward: -1.221269122373224\n",
            "Episode 9 \treward: -36.39424052351534\n",
            "Episode 10 \treward: -26.460523485337706\n",
            "Episode 11 \treward: -1.3097175534103571\n",
            "Episode 12 \treward: -3.391252479048636\n",
            "Episode 13 \treward: -5.566954518768839\n",
            "Episode 14 \treward: -1.8954414239389281\n",
            "Episode 15 \treward: -17.872639190193897\n",
            "Episode 16 \treward: -2.6851838246574693\n",
            "Episode 17 \treward: -29.222131303799255\n",
            "Episode 18 \treward: -63.24830679634443\n",
            "Episode 19 \treward: -33.892001062659936\n",
            "Episode 20 \treward: -69.8536967044801\n",
            "Episode 21 \treward: -98.69556292063359\n",
            "Episode 22 \treward: -87.53100825082515\n",
            "Episode 23 \treward: 97.2989569828175\n",
            "Episode 24 \treward: 96.64920175635187\n",
            "Episode 25 \treward: 96.59598154142176\n",
            "Episode 26 \treward: 97.24203573987303\n",
            "Episode 27 \treward: 96.9133832168752\n",
            "Episode 28 \treward: 92.76246222570225\n",
            "Episode 29 \treward: 96.68394726697574\n",
            "Episode 30 \treward: 97.23792283245864\n",
            "Episode 31 \treward: 96.74790085569857\n",
            "Episode 32 \treward: 96.90993048464838\n",
            "Episode 33 \treward: 96.19201204605714\n",
            "Episode 34 \treward: 96.86986673589895\n",
            "Episode 35 \treward: 93.33980699647232\n",
            "Episode 36 \treward: 91.48931706584568\n",
            "Episode 37 \treward: 95.97443783104376\n",
            "Episode 38 \treward: 95.76445306088327\n",
            "Episode 39 \treward: -0.05088045356891603\n",
            "Episode 40 \treward: 94.51751141958945\n",
            "Episode 41 \treward: 95.42642872998738\n",
            "Episode 42 \treward: 95.1479988972066\n",
            "Episode 43 \treward: 95.1362616244113\n",
            "Episode 44 \treward: 94.29980845430403\n",
            "Episode 45 \treward: 94.62899088384604\n",
            "Episode 46 \treward: 94.81789515292107\n",
            "Episode 47 \treward: 94.27752772705068\n",
            "Episode 48 \treward: 95.04721196823027\n",
            "Episode 49 \treward: 94.60311137423841\n",
            "Episode 50 \treward: 94.27738127837054\n",
            "Episode 51 \treward: 94.36267173578027\n",
            "Episode 52 \treward: 94.19711904663805\n",
            "Episode 53 \treward: 93.99121274691122\n",
            "Episode 54 \treward: 94.33313757973787\n",
            "Episode 55 \treward: 94.85513037752933\n",
            "Episode 56 \treward: 95.08815482735858\n",
            "Episode 57 \treward: 94.52610254231074\n",
            "Episode 58 \treward: 94.4560096855762\n",
            "Episode 59 \treward: 94.68188647917945\n",
            "Episode 60 \treward: 94.57361480439074\n",
            "Episode 61 \treward: 94.40552899357806\n",
            "Episode 62 \treward: 94.77345328087355\n",
            "Episode 63 \treward: 95.05418461972239\n",
            "Episode 64 \treward: 94.0839909042856\n",
            "Episode 65 \treward: 94.7679320424695\n"
          ],
          "name": "stdout"
        },
        {
          "output_type": "error",
          "ename": "KeyboardInterrupt",
          "evalue": "ignored",
          "traceback": [
            "\u001b[0;31m---------------------------------------------------------------------------\u001b[0m",
            "\u001b[0;31mKeyboardInterrupt\u001b[0m                         Traceback (most recent call last)",
            "\u001b[0;32m<ipython-input-349-780dc519221d>\u001b[0m in \u001b[0;36m<module>\u001b[0;34m()\u001b[0m\n\u001b[0;32m----> 1\u001b[0;31m \u001b[0mac_policy\u001b[0m\u001b[0;34m.\u001b[0m\u001b[0mtrain\u001b[0m\u001b[0;34m(\u001b[0m\u001b[0menv2\u001b[0m\u001b[0;34m,\u001b[0m \u001b[0mmodify_reward\u001b[0m\u001b[0;34m=\u001b[0m\u001b[0;32mFalse\u001b[0m\u001b[0;34m)\u001b[0m\u001b[0;34m\u001b[0m\u001b[0;34m\u001b[0m\u001b[0m\n\u001b[0m",
            "\u001b[0;32m<ipython-input-347-ada39a4518d1>\u001b[0m in \u001b[0;36mtrain\u001b[0;34m(self, evniroment, episodes, max_iters, modify_reward, reward_modif_scale)\u001b[0m\n\u001b[1;32m     73\u001b[0m         \u001b[0;31m#print('Upd')\u001b[0m\u001b[0;34m\u001b[0m\u001b[0;34m\u001b[0m\u001b[0;34m\u001b[0m\u001b[0m\n\u001b[1;32m     74\u001b[0m         \u001b[0;32mif\u001b[0m \u001b[0mlen\u001b[0m\u001b[0;34m(\u001b[0m\u001b[0mself\u001b[0m\u001b[0;34m.\u001b[0m\u001b[0mmem\u001b[0m\u001b[0;34m)\u001b[0m \u001b[0;34m>=\u001b[0m \u001b[0mBATCH_SIZE\u001b[0m\u001b[0;34m:\u001b[0m\u001b[0;34m\u001b[0m\u001b[0;34m\u001b[0m\u001b[0m\n\u001b[0;32m---> 75\u001b[0;31m           \u001b[0mself\u001b[0m\u001b[0;34m.\u001b[0m\u001b[0mupdate\u001b[0m\u001b[0;34m(\u001b[0m\u001b[0;34m)\u001b[0m\u001b[0;34m\u001b[0m\u001b[0;34m\u001b[0m\u001b[0m\n\u001b[0m\u001b[1;32m     76\u001b[0m         \u001b[0mobs\u001b[0m \u001b[0;34m=\u001b[0m \u001b[0mnew_obs\u001b[0m\u001b[0;34m\u001b[0m\u001b[0;34m\u001b[0m\u001b[0m\n\u001b[1;32m     77\u001b[0m         \u001b[0;32mif\u001b[0m \u001b[0mdone\u001b[0m\u001b[0;34m:\u001b[0m\u001b[0;34m\u001b[0m\u001b[0;34m\u001b[0m\u001b[0m\n",
            "\u001b[0;32m<ipython-input-347-ada39a4518d1>\u001b[0m in \u001b[0;36mupdate\u001b[0;34m(self)\u001b[0m\n\u001b[1;32m     37\u001b[0m       \u001b[0mtarget_q\u001b[0m \u001b[0;34m=\u001b[0m \u001b[0;32mNone\u001b[0m\u001b[0;34m\u001b[0m\u001b[0;34m\u001b[0m\u001b[0m\n\u001b[1;32m     38\u001b[0m       \u001b[0;32mwith\u001b[0m \u001b[0mtorch\u001b[0m\u001b[0;34m.\u001b[0m\u001b[0mno_grad\u001b[0m\u001b[0;34m(\u001b[0m\u001b[0;34m)\u001b[0m\u001b[0;34m:\u001b[0m\u001b[0;34m\u001b[0m\u001b[0;34m\u001b[0m\u001b[0m\n\u001b[0;32m---> 39\u001b[0;31m         \u001b[0mtarget_q\u001b[0m \u001b[0;34m=\u001b[0m \u001b[0mself\u001b[0m\u001b[0;34m.\u001b[0m\u001b[0mtarget_critic\u001b[0m\u001b[0;34m(\u001b[0m\u001b[0mnew_obs\u001b[0m\u001b[0;34m,\u001b[0m \u001b[0mself\u001b[0m\u001b[0;34m.\u001b[0m\u001b[0mtarget_actor\u001b[0m\u001b[0;34m(\u001b[0m\u001b[0mnew_obs\u001b[0m\u001b[0;34m)\u001b[0m\u001b[0;34m)\u001b[0m\u001b[0;34m\u001b[0m\u001b[0;34m\u001b[0m\u001b[0m\n\u001b[0m\u001b[1;32m     40\u001b[0m         \u001b[0mtarget_q\u001b[0m\u001b[0;34m[\u001b[0m\u001b[0mdone\u001b[0m\u001b[0;34m]\u001b[0m \u001b[0;34m=\u001b[0m \u001b[0;36m0\u001b[0m\u001b[0;34m\u001b[0m\u001b[0;34m\u001b[0m\u001b[0m\n\u001b[1;32m     41\u001b[0m       \u001b[0mtarget_q\u001b[0m \u001b[0;34m=\u001b[0m \u001b[0;34m(\u001b[0m\u001b[0mrewards\u001b[0m\u001b[0;34m.\u001b[0m\u001b[0munsqueeze\u001b[0m\u001b[0;34m(\u001b[0m\u001b[0;36m1\u001b[0m\u001b[0;34m)\u001b[0m \u001b[0;34m+\u001b[0m \u001b[0mGAMMA\u001b[0m \u001b[0;34m*\u001b[0m \u001b[0mtarget_q\u001b[0m\u001b[0;34m)\u001b[0m\u001b[0;34m\u001b[0m\u001b[0;34m\u001b[0m\u001b[0m\n",
            "\u001b[0;32m/usr/local/lib/python3.6/dist-packages/torch/nn/modules/module.py\u001b[0m in \u001b[0;36m_call_impl\u001b[0;34m(self, *input, **kwargs)\u001b[0m\n\u001b[1;32m    725\u001b[0m             \u001b[0mresult\u001b[0m \u001b[0;34m=\u001b[0m \u001b[0mself\u001b[0m\u001b[0;34m.\u001b[0m\u001b[0m_slow_forward\u001b[0m\u001b[0;34m(\u001b[0m\u001b[0;34m*\u001b[0m\u001b[0minput\u001b[0m\u001b[0;34m,\u001b[0m \u001b[0;34m**\u001b[0m\u001b[0mkwargs\u001b[0m\u001b[0;34m)\u001b[0m\u001b[0;34m\u001b[0m\u001b[0;34m\u001b[0m\u001b[0m\n\u001b[1;32m    726\u001b[0m         \u001b[0;32melse\u001b[0m\u001b[0;34m:\u001b[0m\u001b[0;34m\u001b[0m\u001b[0;34m\u001b[0m\u001b[0m\n\u001b[0;32m--> 727\u001b[0;31m             \u001b[0mresult\u001b[0m \u001b[0;34m=\u001b[0m \u001b[0mself\u001b[0m\u001b[0;34m.\u001b[0m\u001b[0mforward\u001b[0m\u001b[0;34m(\u001b[0m\u001b[0;34m*\u001b[0m\u001b[0minput\u001b[0m\u001b[0;34m,\u001b[0m \u001b[0;34m**\u001b[0m\u001b[0mkwargs\u001b[0m\u001b[0;34m)\u001b[0m\u001b[0;34m\u001b[0m\u001b[0;34m\u001b[0m\u001b[0m\n\u001b[0m\u001b[1;32m    728\u001b[0m         for hook in itertools.chain(\n\u001b[1;32m    729\u001b[0m                 \u001b[0m_global_forward_hooks\u001b[0m\u001b[0;34m.\u001b[0m\u001b[0mvalues\u001b[0m\u001b[0;34m(\u001b[0m\u001b[0;34m)\u001b[0m\u001b[0;34m,\u001b[0m\u001b[0;34m\u001b[0m\u001b[0;34m\u001b[0m\u001b[0m\n",
            "\u001b[0;32m<ipython-input-345-0a2e9c01a9f4>\u001b[0m in \u001b[0;36mforward\u001b[0;34m(self, obs, action)\u001b[0m\n\u001b[1;32m     40\u001b[0m \u001b[0;34m\u001b[0m\u001b[0m\n\u001b[1;32m     41\u001b[0m   \u001b[0;32mdef\u001b[0m \u001b[0mforward\u001b[0m\u001b[0;34m(\u001b[0m\u001b[0mself\u001b[0m\u001b[0;34m,\u001b[0m \u001b[0mobs\u001b[0m\u001b[0;34m,\u001b[0m \u001b[0maction\u001b[0m\u001b[0;34m)\u001b[0m\u001b[0;34m:\u001b[0m\u001b[0;34m\u001b[0m\u001b[0;34m\u001b[0m\u001b[0m\n\u001b[0;32m---> 42\u001b[0;31m     \u001b[0mobs_v\u001b[0m \u001b[0;34m=\u001b[0m \u001b[0mself\u001b[0m\u001b[0;34m.\u001b[0m\u001b[0mobs_net\u001b[0m\u001b[0;34m(\u001b[0m\u001b[0mobs\u001b[0m\u001b[0;34m)\u001b[0m\u001b[0;34m\u001b[0m\u001b[0;34m\u001b[0m\u001b[0m\n\u001b[0m\u001b[1;32m     43\u001b[0m     \u001b[0;32mreturn\u001b[0m \u001b[0mself\u001b[0m\u001b[0;34m.\u001b[0m\u001b[0mnet\u001b[0m\u001b[0;34m(\u001b[0m\u001b[0mtorch\u001b[0m\u001b[0;34m.\u001b[0m\u001b[0mcat\u001b[0m\u001b[0;34m(\u001b[0m\u001b[0;34m[\u001b[0m\u001b[0mobs_v\u001b[0m\u001b[0;34m,\u001b[0m \u001b[0maction\u001b[0m\u001b[0;34m]\u001b[0m\u001b[0;34m,\u001b[0m \u001b[0mdim\u001b[0m\u001b[0;34m=\u001b[0m\u001b[0;34m-\u001b[0m\u001b[0;36m1\u001b[0m\u001b[0;34m)\u001b[0m\u001b[0;34m)\u001b[0m\u001b[0;34m\u001b[0m\u001b[0;34m\u001b[0m\u001b[0m\n",
            "\u001b[0;32m/usr/local/lib/python3.6/dist-packages/torch/nn/modules/module.py\u001b[0m in \u001b[0;36m_call_impl\u001b[0;34m(self, *input, **kwargs)\u001b[0m\n\u001b[1;32m    725\u001b[0m             \u001b[0mresult\u001b[0m \u001b[0;34m=\u001b[0m \u001b[0mself\u001b[0m\u001b[0;34m.\u001b[0m\u001b[0m_slow_forward\u001b[0m\u001b[0;34m(\u001b[0m\u001b[0;34m*\u001b[0m\u001b[0minput\u001b[0m\u001b[0;34m,\u001b[0m \u001b[0;34m**\u001b[0m\u001b[0mkwargs\u001b[0m\u001b[0;34m)\u001b[0m\u001b[0;34m\u001b[0m\u001b[0;34m\u001b[0m\u001b[0m\n\u001b[1;32m    726\u001b[0m         \u001b[0;32melse\u001b[0m\u001b[0;34m:\u001b[0m\u001b[0;34m\u001b[0m\u001b[0;34m\u001b[0m\u001b[0m\n\u001b[0;32m--> 727\u001b[0;31m             \u001b[0mresult\u001b[0m \u001b[0;34m=\u001b[0m \u001b[0mself\u001b[0m\u001b[0;34m.\u001b[0m\u001b[0mforward\u001b[0m\u001b[0;34m(\u001b[0m\u001b[0;34m*\u001b[0m\u001b[0minput\u001b[0m\u001b[0;34m,\u001b[0m \u001b[0;34m**\u001b[0m\u001b[0mkwargs\u001b[0m\u001b[0;34m)\u001b[0m\u001b[0;34m\u001b[0m\u001b[0;34m\u001b[0m\u001b[0m\n\u001b[0m\u001b[1;32m    728\u001b[0m         for hook in itertools.chain(\n\u001b[1;32m    729\u001b[0m                 \u001b[0m_global_forward_hooks\u001b[0m\u001b[0;34m.\u001b[0m\u001b[0mvalues\u001b[0m\u001b[0;34m(\u001b[0m\u001b[0;34m)\u001b[0m\u001b[0;34m,\u001b[0m\u001b[0;34m\u001b[0m\u001b[0;34m\u001b[0m\u001b[0m\n",
            "\u001b[0;32m/usr/local/lib/python3.6/dist-packages/torch/nn/modules/container.py\u001b[0m in \u001b[0;36mforward\u001b[0;34m(self, input)\u001b[0m\n\u001b[1;32m    115\u001b[0m     \u001b[0;32mdef\u001b[0m \u001b[0mforward\u001b[0m\u001b[0;34m(\u001b[0m\u001b[0mself\u001b[0m\u001b[0;34m,\u001b[0m \u001b[0minput\u001b[0m\u001b[0;34m)\u001b[0m\u001b[0;34m:\u001b[0m\u001b[0;34m\u001b[0m\u001b[0;34m\u001b[0m\u001b[0m\n\u001b[1;32m    116\u001b[0m         \u001b[0;32mfor\u001b[0m \u001b[0mmodule\u001b[0m \u001b[0;32min\u001b[0m \u001b[0mself\u001b[0m\u001b[0;34m:\u001b[0m\u001b[0;34m\u001b[0m\u001b[0;34m\u001b[0m\u001b[0m\n\u001b[0;32m--> 117\u001b[0;31m             \u001b[0minput\u001b[0m \u001b[0;34m=\u001b[0m \u001b[0mmodule\u001b[0m\u001b[0;34m(\u001b[0m\u001b[0minput\u001b[0m\u001b[0;34m)\u001b[0m\u001b[0;34m\u001b[0m\u001b[0;34m\u001b[0m\u001b[0m\n\u001b[0m\u001b[1;32m    118\u001b[0m         \u001b[0;32mreturn\u001b[0m \u001b[0minput\u001b[0m\u001b[0;34m\u001b[0m\u001b[0;34m\u001b[0m\u001b[0m\n\u001b[1;32m    119\u001b[0m \u001b[0;34m\u001b[0m\u001b[0m\n",
            "\u001b[0;32m/usr/local/lib/python3.6/dist-packages/torch/nn/modules/module.py\u001b[0m in \u001b[0;36m_call_impl\u001b[0;34m(self, *input, **kwargs)\u001b[0m\n\u001b[1;32m    725\u001b[0m             \u001b[0mresult\u001b[0m \u001b[0;34m=\u001b[0m \u001b[0mself\u001b[0m\u001b[0;34m.\u001b[0m\u001b[0m_slow_forward\u001b[0m\u001b[0;34m(\u001b[0m\u001b[0;34m*\u001b[0m\u001b[0minput\u001b[0m\u001b[0;34m,\u001b[0m \u001b[0;34m**\u001b[0m\u001b[0mkwargs\u001b[0m\u001b[0;34m)\u001b[0m\u001b[0;34m\u001b[0m\u001b[0;34m\u001b[0m\u001b[0m\n\u001b[1;32m    726\u001b[0m         \u001b[0;32melse\u001b[0m\u001b[0;34m:\u001b[0m\u001b[0;34m\u001b[0m\u001b[0;34m\u001b[0m\u001b[0m\n\u001b[0;32m--> 727\u001b[0;31m             \u001b[0mresult\u001b[0m \u001b[0;34m=\u001b[0m \u001b[0mself\u001b[0m\u001b[0;34m.\u001b[0m\u001b[0mforward\u001b[0m\u001b[0;34m(\u001b[0m\u001b[0;34m*\u001b[0m\u001b[0minput\u001b[0m\u001b[0;34m,\u001b[0m \u001b[0;34m**\u001b[0m\u001b[0mkwargs\u001b[0m\u001b[0;34m)\u001b[0m\u001b[0;34m\u001b[0m\u001b[0;34m\u001b[0m\u001b[0m\n\u001b[0m\u001b[1;32m    728\u001b[0m         for hook in itertools.chain(\n\u001b[1;32m    729\u001b[0m                 \u001b[0m_global_forward_hooks\u001b[0m\u001b[0;34m.\u001b[0m\u001b[0mvalues\u001b[0m\u001b[0;34m(\u001b[0m\u001b[0;34m)\u001b[0m\u001b[0;34m,\u001b[0m\u001b[0;34m\u001b[0m\u001b[0;34m\u001b[0m\u001b[0m\n",
            "\u001b[0;32m/usr/local/lib/python3.6/dist-packages/torch/nn/modules/linear.py\u001b[0m in \u001b[0;36mforward\u001b[0;34m(self, input)\u001b[0m\n\u001b[1;32m     91\u001b[0m \u001b[0;34m\u001b[0m\u001b[0m\n\u001b[1;32m     92\u001b[0m     \u001b[0;32mdef\u001b[0m \u001b[0mforward\u001b[0m\u001b[0;34m(\u001b[0m\u001b[0mself\u001b[0m\u001b[0;34m,\u001b[0m \u001b[0minput\u001b[0m\u001b[0;34m:\u001b[0m \u001b[0mTensor\u001b[0m\u001b[0;34m)\u001b[0m \u001b[0;34m->\u001b[0m \u001b[0mTensor\u001b[0m\u001b[0;34m:\u001b[0m\u001b[0;34m\u001b[0m\u001b[0;34m\u001b[0m\u001b[0m\n\u001b[0;32m---> 93\u001b[0;31m         \u001b[0;32mreturn\u001b[0m \u001b[0mF\u001b[0m\u001b[0;34m.\u001b[0m\u001b[0mlinear\u001b[0m\u001b[0;34m(\u001b[0m\u001b[0minput\u001b[0m\u001b[0;34m,\u001b[0m \u001b[0mself\u001b[0m\u001b[0;34m.\u001b[0m\u001b[0mweight\u001b[0m\u001b[0;34m,\u001b[0m \u001b[0mself\u001b[0m\u001b[0;34m.\u001b[0m\u001b[0mbias\u001b[0m\u001b[0;34m)\u001b[0m\u001b[0;34m\u001b[0m\u001b[0;34m\u001b[0m\u001b[0m\n\u001b[0m\u001b[1;32m     94\u001b[0m \u001b[0;34m\u001b[0m\u001b[0m\n\u001b[1;32m     95\u001b[0m     \u001b[0;32mdef\u001b[0m \u001b[0mextra_repr\u001b[0m\u001b[0;34m(\u001b[0m\u001b[0mself\u001b[0m\u001b[0;34m)\u001b[0m \u001b[0;34m->\u001b[0m \u001b[0mstr\u001b[0m\u001b[0;34m:\u001b[0m\u001b[0;34m\u001b[0m\u001b[0;34m\u001b[0m\u001b[0m\n",
            "\u001b[0;32m/usr/local/lib/python3.6/dist-packages/torch/nn/functional.py\u001b[0m in \u001b[0;36mlinear\u001b[0;34m(input, weight, bias)\u001b[0m\n\u001b[1;32m   1688\u001b[0m     \u001b[0;32mif\u001b[0m \u001b[0minput\u001b[0m\u001b[0;34m.\u001b[0m\u001b[0mdim\u001b[0m\u001b[0;34m(\u001b[0m\u001b[0;34m)\u001b[0m \u001b[0;34m==\u001b[0m \u001b[0;36m2\u001b[0m \u001b[0;32mand\u001b[0m \u001b[0mbias\u001b[0m \u001b[0;32mis\u001b[0m \u001b[0;32mnot\u001b[0m \u001b[0;32mNone\u001b[0m\u001b[0;34m:\u001b[0m\u001b[0;34m\u001b[0m\u001b[0;34m\u001b[0m\u001b[0m\n\u001b[1;32m   1689\u001b[0m         \u001b[0;31m# fused op is marginally faster\u001b[0m\u001b[0;34m\u001b[0m\u001b[0;34m\u001b[0m\u001b[0;34m\u001b[0m\u001b[0m\n\u001b[0;32m-> 1690\u001b[0;31m         \u001b[0mret\u001b[0m \u001b[0;34m=\u001b[0m \u001b[0mtorch\u001b[0m\u001b[0;34m.\u001b[0m\u001b[0maddmm\u001b[0m\u001b[0;34m(\u001b[0m\u001b[0mbias\u001b[0m\u001b[0;34m,\u001b[0m \u001b[0minput\u001b[0m\u001b[0;34m,\u001b[0m \u001b[0mweight\u001b[0m\u001b[0;34m.\u001b[0m\u001b[0mt\u001b[0m\u001b[0;34m(\u001b[0m\u001b[0;34m)\u001b[0m\u001b[0;34m)\u001b[0m\u001b[0;34m\u001b[0m\u001b[0;34m\u001b[0m\u001b[0m\n\u001b[0m\u001b[1;32m   1691\u001b[0m     \u001b[0;32melse\u001b[0m\u001b[0;34m:\u001b[0m\u001b[0;34m\u001b[0m\u001b[0;34m\u001b[0m\u001b[0m\n\u001b[1;32m   1692\u001b[0m         \u001b[0moutput\u001b[0m \u001b[0;34m=\u001b[0m \u001b[0minput\u001b[0m\u001b[0;34m.\u001b[0m\u001b[0mmatmul\u001b[0m\u001b[0;34m(\u001b[0m\u001b[0mweight\u001b[0m\u001b[0;34m.\u001b[0m\u001b[0mt\u001b[0m\u001b[0;34m(\u001b[0m\u001b[0;34m)\u001b[0m\u001b[0;34m)\u001b[0m\u001b[0;34m\u001b[0m\u001b[0;34m\u001b[0m\u001b[0m\n",
            "\u001b[0;31mKeyboardInterrupt\u001b[0m: "
          ]
        }
      ]
    },
    {
      "cell_type": "code",
      "metadata": {
        "colab": {
          "base_uri": "https://localhost:8080/"
        },
        "id": "xJ_oL32HsrSt",
        "outputId": "54901ad4-0e11-4e3d-c12a-8d51e27f3633"
      },
      "source": [
        "test_policy(env2, 100, ac_policy)"
      ],
      "execution_count": null,
      "outputs": [
        {
          "output_type": "stream",
          "text": [
            "mean: 94.45835641198708 \n",
            "std: 0.3500358655620966 \n",
            "min: 93.84043933859422 \n",
            "max: 95.08507378110232\n"
          ],
          "name": "stdout"
        }
      ]
    },
    {
      "cell_type": "code",
      "metadata": {
        "colab": {
          "base_uri": "https://localhost:8080/",
          "height": 458
        },
        "id": "gzMeBK8y5VEG",
        "outputId": "8431ee50-1c32-4668-f4fb-2b2df556b5c2"
      },
      "source": [
        "plt.figure(figsize=(15,7))\r\n",
        "plt.title('Reward size after target network update')\r\n",
        "plt.xlabel('Iiterations')\r\n",
        "plt.ylabel('Reward size')\r\n",
        "plt.grid()\r\n",
        "plt.plot(np.arange(0, len(ac_policy.log_rewards)), ac_policy.log_rewards,\r\n",
        "         label='Agent reward')\r\n",
        "plt.plot(np.arange(0, len(ac_policy.log_rewards)), \r\n",
        "         [90] * len(ac_policy.log_rewards), label='Problem is solved')\r\n",
        "plt.legend()\r\n",
        "plt.show()"
      ],
      "execution_count": null,
      "outputs": [
        {
          "output_type": "display_data",
          "data": {
            "image/png": "[encoded data removed]",
            "text/plain": [
              "<Figure size 1080x504 with 1 Axes>"
            ]
          },
          "metadata": {
            "tags": [],
            "needs_background": "light"
          }
        }
      ]
    },
    {
      "cell_type": "code",
      "metadata": {
        "id": "xr_m6iSKpa9c"
      },
      "source": [
        "class ContiniousToDescret():\r\n",
        "  def __init__(self, cont_pol, eps=0.0):\r\n",
        "    self.cont_pol = cont_pol\r\n",
        "    self.eps = eps\r\n",
        "\r\n",
        "  def __call__(self, obs):\r\n",
        "    act = self.cont_pol(obs)\r\n",
        "    if abs(act) < self.eps:\r\n",
        "      return 1\r\n",
        "    return 0 if act < 0 else 2"
      ],
      "execution_count": 392,
      "outputs": []
    },
    {
      "cell_type": "code",
      "metadata": {
        "colab": {
          "base_uri": "https://localhost:8080/"
        },
        "id": "dgjMHgDc44Ry",
        "outputId": "8f80b57d-40c0-4247-e19e-697090e97048"
      },
      "source": [
        "test_policy(env, 100, ContiniousToDescret(ac_policy))"
      ],
      "execution_count": null,
      "outputs": [
        {
          "output_type": "stream",
          "text": [
            "mean: -143.63 \n",
            "std: 28.638315243742955 \n",
            "min: -200.0 \n",
            "max: -85.0\n"
          ],
          "name": "stdout"
        }
      ]
    },
    {
      "cell_type": "markdown",
      "metadata": {
        "id": "yoFZE1hzZ8z3"
      },
      "source": [
        "Faster converge"
      ]
    },
    {
      "cell_type": "code",
      "metadata": {
        "id": "MMuqllrr55nA"
      },
      "source": [
        "ac_policy = AC_policy()"
      ],
      "execution_count": null,
      "outputs": []
    },
    {
      "cell_type": "code",
      "metadata": {
        "colab": {
          "base_uri": "https://localhost:8080/"
        },
        "id": "MNHpZK_e47UI",
        "outputId": "e81c2a5d-5ca4-4ef8-9986-f8c5ef7c387c"
      },
      "source": [
        "ac_policy.train(env2, 40, modify_reward=True, reward_modif_scale=100)"
      ],
      "execution_count": null,
      "outputs": [
        {
          "output_type": "stream",
          "text": [
            "Episode 0 \treward: -2.397394164314146\n",
            "Episode 1 \treward: -98.56463943915108\n",
            "Episode 2 \treward: -99.4150934903582\n",
            "Episode 3 \treward: -99.62085118821796\n",
            "Episode 4 \treward: -99.590514158289\n",
            "Episode 5 \treward: -99.65606992838238\n",
            "Episode 6 \treward: -99.79374659883824\n",
            "Episode 7 \treward: -99.79544884176936\n",
            "Episode 8 \treward: -58.00627665625967\n",
            "Episode 9 \treward: -81.42376225374468\n",
            "Episode 10 \treward: -97.89287345944703\n",
            "Episode 11 \treward: -98.40698141661451\n",
            "Episode 12 \treward: -98.42534833791507\n",
            "Episode 13 \treward: -97.82817102878776\n",
            "Episode 14 \treward: -97.2825032236187\n",
            "Episode 15 \treward: 78.1309221404951\n",
            "Episode 16 \treward: 83.1963772259713\n",
            "Episode 17 \treward: 84.16294059797207\n",
            "Episode 18 \treward: 87.75662690772084\n",
            "Episode 19 \treward: 88.4967971567172\n",
            "Episode 20 \treward: 88.37886308440058\n",
            "Episode 21 \treward: 93.60729191603947\n",
            "Episode 22 \treward: 83.07890498881764\n",
            "Episode 23 \treward: 93.38838951930144\n",
            "Episode 24 \treward: 93.30415160617173\n",
            "Episode 25 \treward: 93.26453512570833\n",
            "Episode 26 \treward: 93.25602623389847\n",
            "Episode 27 \treward: 93.35857388570842\n",
            "Episode 28 \treward: 92.69911694124738\n",
            "Episode 29 \treward: 93.61044154315891\n",
            "Episode 30 \treward: 93.91451330911016\n",
            "Episode 31 \treward: 93.71867923006022\n",
            "Episode 32 \treward: 93.13165378758042\n",
            "Episode 33 \treward: 93.58638492284985\n",
            "Episode 34 \treward: 93.90982564208394\n",
            "Episode 35 \treward: 94.09812919231904\n",
            "Episode 36 \treward: 94.0109016276141\n",
            "Episode 37 \treward: 93.27251819729534\n",
            "Episode 38 \treward: 93.4136521887003\n",
            "Episode 39 \treward: 94.16964067610829\n"
          ],
          "name": "stdout"
        }
      ]
    },
    {
      "cell_type": "code",
      "metadata": {
        "colab": {
          "base_uri": "https://localhost:8080/"
        },
        "id": "HmnuIUn1DDay",
        "outputId": "226ed57a-b38b-4d11-bc6d-cb5138a7d8eb"
      },
      "source": [
        "test_policy(env2, 100, ac_policy)"
      ],
      "execution_count": 389,
      "outputs": [
        {
          "output_type": "stream",
          "text": [
            "mean: 93.8146908876443 \n",
            "std: 0.22653387440663275 \n",
            "min: 93.41811840548833 \n",
            "max: 94.16892191222821\n"
          ],
          "name": "stdout"
        }
      ]
    },
    {
      "cell_type": "code",
      "metadata": {
        "id": "v74iLwqO56Ck",
        "colab": {
          "base_uri": "https://localhost:8080/",
          "height": 458
        },
        "outputId": "c170aa5b-fcae-4060-b443-ca145293cba0"
      },
      "source": [
        "plt.figure(figsize=(15,7))\r\n",
        "plt.title('Reward size after target network update')\r\n",
        "plt.xlabel('Iiterations')\r\n",
        "plt.ylabel('Reward size')\r\n",
        "plt.grid()\r\n",
        "plt.plot(np.arange(0, len(ac_policy.log_rewards)), ac_policy.log_rewards,\r\n",
        "         label='Agent reward')\r\n",
        "plt.plot(np.arange(0, len(ac_policy.log_rewards)), \r\n",
        "         [90] * len(ac_policy.log_rewards), label='Problem is solved')\r\n",
        "plt.legend()\r\n",
        "plt.show()"
      ],
      "execution_count": null,
      "outputs": [
        {
          "output_type": "display_data",
          "data": {
            "image/png": "[encoded data removed]",
            "text/plain": [
              "<Figure size 1080x504 with 1 Axes>"
            ]
          },
          "metadata": {
            "tags": [],
            "needs_background": "light"
          }
        }
      ]
    },
    {
      "cell_type": "code",
      "metadata": {
        "colab": {
          "base_uri": "https://localhost:8080/"
        },
        "id": "twPFDUtxZAW-",
        "outputId": "eb56d72f-654a-43c8-e2fc-c190e5bed454"
      },
      "source": [
        "test_policy(env, 100, ContiniousToDescret(ac_policy, eps=0.05))"
      ],
      "execution_count": 401,
      "outputs": [
        {
          "output_type": "stream",
          "text": [
            "mean: -137.26 \n",
            "std: 37.58659867559181 \n",
            "min: -200.0 \n",
            "max: -83.0\n"
          ],
          "name": "stdout"
        }
      ]
    },
    {
      "cell_type": "markdown",
      "metadata": {
        "id": "CL9vTqDFgre6"
      },
      "source": [
        "It is better to train new agent with Actor-Critic approach than try to adapt conitnious version to discrete manualy"
      ]
    },
    {
      "cell_type": "code",
      "metadata": {
        "id": "b-CSy-1ddbht"
      },
      "source": [
        ""
      ],
      "execution_count": null,
      "outputs": []
    }
  ]
}